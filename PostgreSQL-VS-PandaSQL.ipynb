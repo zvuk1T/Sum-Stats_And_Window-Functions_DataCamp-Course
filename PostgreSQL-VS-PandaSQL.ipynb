{
 "cells": [
  {
   "cell_type": "markdown",
   "metadata": {},
   "source": [
    "DataCamp Interactive Course"
   ]
  },
  {
   "cell_type": "markdown",
   "metadata": {},
   "source": [
    "# PostgreSQL Summary Stats and Window Functions\n",
    "[https://app.datacamp.com/learn/courses/postgresql-summary-stats-and-window-functions]"
   ]
  },
  {
   "cell_type": "markdown",
   "metadata": {},
   "source": [
    "### Description\n",
    "Have you ever wondered how data professionals use SQL to solve real-world business problems, like generating rankings, calculating moving averages and running totals, deduplicating data, or performing time intelligence? If you already know how to select, filter, order, join and group data with SQL, this course is your next step. By the end, you will be writing queries like a pro! You will learn how to create queries for analytics and data engineering with window functions, the SQL secret weapon! Using flights data, you will discover how simple it is to use window functions, and how flexible and efficient they are."
   ]
  },
  {
   "cell_type": "markdown",
   "metadata": {},
   "source": [
    "## Exercise 0.01: ETL & EDA"
   ]
  },
  {
   "cell_type": "code",
   "execution_count": 524,
   "metadata": {},
   "outputs": [],
   "source": [
    "import pandas as pd\n",
    "# pip install pandasql\n",
    "import pandasql as ps"
   ]
  },
  {
   "cell_type": "code",
   "execution_count": 525,
   "metadata": {},
   "outputs": [
    {
     "name": "stdout",
     "output_type": "stream",
     "text": [
      "(31165, 9)\n"
     ]
    }
   ],
   "source": [
    "# Read the CSV file into a DataFrame\n",
    "summer = pd.read_csv('summer.csv')\n",
    "summer_medals = summer.copy()\n",
    "print(summer_medals.shape)"
   ]
  },
  {
   "cell_type": "code",
   "execution_count": 526,
   "metadata": {},
   "outputs": [
    {
     "name": "stdout",
     "output_type": "stream",
     "text": [
      "   Year    City     Sport Discipline          Athlete Country Gender  \\\n",
      "0  1896  Athens  Aquatics   Swimming     HAJOS Alfred     HUN    Men   \n",
      "1  1896  Athens  Aquatics   Swimming  HERSCHMANN Otto     AUT    Men   \n",
      "\n",
      "            Event   Medal  \n",
      "0  100M Freestyle    Gold  \n",
      "1  100M Freestyle  Silver  \n"
     ]
    }
   ],
   "source": [
    "print(summer_medals.head(2))"
   ]
  },
  {
   "cell_type": "code",
   "execution_count": 527,
   "metadata": {},
   "outputs": [
    {
     "name": "stdout",
     "output_type": "stream",
     "text": [
      "   Year    City     Sport Discipline          Athlete Country Gender  \\\n",
      "0  1896  Athens  Aquatics   Swimming     HAJOS Alfred     HUN    Men   \n",
      "1  1896  Athens  Aquatics   Swimming  HERSCHMANN Otto     AUT    Men   \n",
      "\n",
      "            Event   Medal  \n",
      "0  100M Freestyle    Gold  \n",
      "1  100M Freestyle  Silver  \n"
     ]
    }
   ],
   "source": [
    "# Define a SQL query\n",
    "query = \"\"\"\n",
    "SELECT *\n",
    "FROM summer_medals\n",
    "LIMIT 2;\n",
    "\"\"\"\n",
    "# Execute the SQL query on the DataFrame\n",
    "result = ps.sqldf(query, locals())\n",
    "\n",
    "# Display the result\n",
    "print(result)"
   ]
  },
  {
   "cell_type": "markdown",
   "metadata": {},
   "source": [
    "## Chapter 1: Introduction to window functions\n",
    "In this chapter, you'll learn what window functions are, and the two basic window function subclauses, ORDER BY and PARTITION BY."
   ]
  },
  {
   "cell_type": "markdown",
   "metadata": {},
   "source": [
    "### Video 1.01: Introduction\n",
    "[https://campus.datacamp.com/courses/postgresql-summary-stats-and-window-functions/introduction-to-window-functions?ex=1]"
   ]
  },
  {
   "cell_type": "markdown",
   "metadata": {},
   "source": [
    "### Exercise 1.03: Numbering rows"
   ]
  },
  {
   "cell_type": "markdown",
   "metadata": {},
   "source": [
    "Numbering rows\n",
    "The simplest application for window functions is numbering rows. Numbering rows allows you to easily fetch the nth row. For example, it would be very difficult to get the 35th row in any given table if you didn't have a column with each row's number."
   ]
  },
  {
   "cell_type": "markdown",
   "metadata": {},
   "source": [
    "Copilot Explanation: The `ROW_NUMBER()` function is a window function that assigns a unique sequential integer to rows within a result set. The `OVER()` clause specifies the window over which the function operates. In this case, the `OVER()` clause is empty, meaning the row numbers are assigned across the entire result set without any specific partitioning or ordering.\n",
    "\n",
    "This query is useful for adding a sequential row number to each row in the result set, which can be helpful for indexing, referencing, or simply keeping track of the row order."
   ]
  },
  {
   "cell_type": "code",
   "execution_count": 529,
   "metadata": {},
   "outputs": [
    {
     "name": "stdout",
     "output_type": "stream",
     "text": [
      "   Year    City     Sport Discipline           Athlete Country Gender  \\\n",
      "0  1896  Athens  Aquatics   Swimming      HAJOS Alfred     HUN    Men   \n",
      "1  1896  Athens  Aquatics   Swimming   HERSCHMANN Otto     AUT    Men   \n",
      "2  1896  Athens  Aquatics   Swimming  DRIVAS Dimitrios     GRE    Men   \n",
      "\n",
      "                        Event   Medal  Row_N  \n",
      "0              100M Freestyle    Gold      1  \n",
      "1              100M Freestyle  Silver      2  \n",
      "2  100M Freestyle For Sailors  Bronze      3  \n",
      "   Year    City     Sport Discipline           Athlete Country Gender  \\\n",
      "0  1896  Athens  Aquatics   Swimming      HAJOS Alfred     HUN    Men   \n",
      "1  1896  Athens  Aquatics   Swimming   HERSCHMANN Otto     AUT    Men   \n",
      "2  1896  Athens  Aquatics   Swimming  DRIVAS Dimitrios     GRE    Men   \n",
      "\n",
      "                        Event   Medal  Row_N  \n",
      "0              100M Freestyle    Gold      1  \n",
      "1              100M Freestyle  Silver      2  \n",
      "2  100M Freestyle For Sailors  Bronze      3  \n"
     ]
    }
   ],
   "source": [
    "# Number each row in the dataset.\n",
    "query = \"\"\"\n",
    "SELECT\n",
    "  *,\n",
    "-- Assign numbers to each row\n",
    "  ROW_NUMBER() OVER() AS Row_N\n",
    "FROM summer_medals\n",
    "ORDER BY Row_N ASC\n",
    "LIMIT 3;\n",
    "\"\"\"\n",
    "# Execute the SQL query on the DataFrame\n",
    "result = ps.sqldf(query, locals())\n",
    "\n",
    "# Display the result\n",
    "print(result)\n",
    "\n",
    "''' The same but in Python: \n",
    "The range function in Python can take up to three arguments: \n",
    "start, stop, and step. In this case, it is provided with two arguments: \n",
    "start is set to 1, and stop is set to len(summer) + 1. \n",
    "The len function returns the number of rows in the DataFrame summer. \n",
    "By adding 1 to this length, the range function generates numbers from \n",
    "1 up to and including the number of rows in the DataFrame. \n",
    "The result is assigned to the new column Row_N.'''\n",
    "# Assign row numbers to each row in the DataFrame summer using the range function\n",
    "summer_103 = summer_medals.copy()\n",
    "summer_103['Row_N'] = range(1, len(summer_103) + 1)\n",
    "print(summer_103.head(3))\n"
   ]
  },
  {
   "cell_type": "markdown",
   "metadata": {},
   "source": [
    "### Exercise 1.04: Numbering Olympic games in ASCENDING order\n",
    "The Summer Olympics dataset contains the results of the games between 1896 and 2012. The first Summer Olympics were held in 1896, the second in 1900, and so on. What if you want to easily query the table to see in which year the 13th Summer Olympics were held? You'd need to number the rows for that."
   ]
  },
  {
   "cell_type": "code",
   "execution_count": 530,
   "metadata": {},
   "outputs": [
    {
     "name": "stdout",
     "output_type": "stream",
     "text": [
      "Index(['Year', 'City', 'Sport', 'Discipline', 'Athlete', 'Country', 'Gender',\n",
      "       'Event', 'Medal'],\n",
      "      dtype='object')\n"
     ]
    }
   ],
   "source": [
    "print(summer_medals.columns)"
   ]
  },
  {
   "cell_type": "code",
   "execution_count": 531,
   "metadata": {},
   "outputs": [
    {
     "data": {
      "text/html": [
       "<div>\n",
       "<style scoped>\n",
       "    .dataframe tbody tr th:only-of-type {\n",
       "        vertical-align: middle;\n",
       "    }\n",
       "\n",
       "    .dataframe tbody tr th {\n",
       "        vertical-align: top;\n",
       "    }\n",
       "\n",
       "    .dataframe thead th {\n",
       "        text-align: right;\n",
       "    }\n",
       "</style>\n",
       "<table border=\"1\" class=\"dataframe\">\n",
       "  <thead>\n",
       "    <tr style=\"text-align: right;\">\n",
       "      <th></th>\n",
       "      <th>Year</th>\n",
       "      <th>City</th>\n",
       "      <th>Sport</th>\n",
       "      <th>Discipline</th>\n",
       "      <th>Athlete</th>\n",
       "      <th>Country</th>\n",
       "      <th>Gender</th>\n",
       "      <th>Event</th>\n",
       "      <th>Medal</th>\n",
       "    </tr>\n",
       "  </thead>\n",
       "  <tbody>\n",
       "    <tr>\n",
       "      <th>0</th>\n",
       "      <td>1896</td>\n",
       "      <td>Athens</td>\n",
       "      <td>Aquatics</td>\n",
       "      <td>Swimming</td>\n",
       "      <td>HAJOS Alfred</td>\n",
       "      <td>HUN</td>\n",
       "      <td>Men</td>\n",
       "      <td>100M Freestyle</td>\n",
       "      <td>Gold</td>\n",
       "    </tr>\n",
       "    <tr>\n",
       "      <th>1</th>\n",
       "      <td>1896</td>\n",
       "      <td>Athens</td>\n",
       "      <td>Aquatics</td>\n",
       "      <td>Swimming</td>\n",
       "      <td>HERSCHMANN Otto</td>\n",
       "      <td>AUT</td>\n",
       "      <td>Men</td>\n",
       "      <td>100M Freestyle</td>\n",
       "      <td>Silver</td>\n",
       "    </tr>\n",
       "  </tbody>\n",
       "</table>\n",
       "</div>"
      ],
      "text/plain": [
       "   Year    City     Sport Discipline          Athlete Country Gender  \\\n",
       "0  1896  Athens  Aquatics   Swimming     HAJOS Alfred     HUN    Men   \n",
       "1  1896  Athens  Aquatics   Swimming  HERSCHMANN Otto     AUT    Men   \n",
       "\n",
       "            Event   Medal  \n",
       "0  100M Freestyle    Gold  \n",
       "1  100M Freestyle  Silver  "
      ]
     },
     "execution_count": 531,
     "metadata": {},
     "output_type": "execute_result"
    }
   ],
   "source": [
    "summer_104 = summer_medals.copy()\n",
    "summer_104.head(2) "
   ]
  },
  {
   "cell_type": "code",
   "execution_count": 532,
   "metadata": {},
   "outputs": [
    {
     "name": "stdout",
     "output_type": "stream",
     "text": [
      "   Year  Row_N\n",
      "0  1896      1\n",
      "1  1900      2\n",
      "2  1904      3\n",
      "3  1908      4\n",
      "4  1912      5\n",
      "   Year  Row_N\n",
      "0  1896      1\n",
      "1  1900      2\n",
      "2  1904      3\n",
      "3  1908      4\n",
      "4  1912      5\n"
     ]
    }
   ],
   "source": [
    "# Assign a number to each year in which Summer Olympic games were held.\n",
    "query = \"\"\"\n",
    "SELECT\n",
    "  Year,\n",
    "\n",
    "  -- Assign numbers to each year\n",
    "  ROW_NUMBER() OVER () AS Row_N\n",
    "FROM (\n",
    "  SELECT DISTINCT Year\n",
    "  FROM summer_medals\n",
    "  ORDER BY Year ASC\n",
    ") AS Years\n",
    "ORDER BY Year ASC;\n",
    "\"\"\"\n",
    "# Execute the SQL query on the DataFrame\n",
    "result = ps.sqldf(query, locals())\n",
    "print(result.head())\n",
    "\n",
    "''' The same result with Pandas: '''\n",
    "# Get distinct years and sort them in ascending order \n",
    "years_asc = summer_medals['Year'].drop_duplicates().sort_values(ascending=True).reset_index(drop=True)\n",
    "# reset_index(drop=True) removes the old index and resets it to a new one starting from 0  \n",
    "\n",
    "# Assign row numbers to each year in the DataFrame years using the range function \n",
    "years_df_asc = pd.DataFrame({'Year': years_asc, 'Row_N': range(1, len(years_asc) + 1)})\n",
    "'''\n",
    "1: This determines the starting value of the range, which is 1.\n",
    "len(years_asc) + 1: This is the stopping value, which is exclusive, meaning the range will stop before reaching this value. By adding 1 to the length of years_asc, the range will include the last integer up to the length of years_asc.\n",
    "The step value is implicitly 1, which is the default, indicating that the range will increment by 1 for each step.'''\n",
    "\n",
    "print(years_df_asc.head())"
   ]
  },
  {
   "cell_type": "markdown",
   "metadata": {},
   "source": [
    "### Video 1.05: ORDER BY\n",
    "[https://campus.datacamp.com/courses/postgresql-summary-stats-and-window-functions/introduction-to-window-functions?ex=5]"
   ]
  },
  {
   "cell_type": "markdown",
   "metadata": {},
   "source": [
    "### Exercise 1.06: Numbering Olympic games in DESCENDING order\n",
    "We've already numbered the rows in the Summer Medals dataset. What if you need to reverse the row numbers so that the most recent Olympic games' rows have a lower number?"
   ]
  },
  {
   "cell_type": "code",
   "execution_count": 533,
   "metadata": {},
   "outputs": [
    {
     "name": "stdout",
     "output_type": "stream",
     "text": [
      "Index(['Year', 'City', 'Sport', 'Discipline', 'Athlete', 'Country', 'Gender',\n",
      "       'Event', 'Medal'],\n",
      "      dtype='object')\n"
     ]
    }
   ],
   "source": [
    "print(summer_medals.columns)"
   ]
  },
  {
   "cell_type": "code",
   "execution_count": 534,
   "metadata": {},
   "outputs": [
    {
     "name": "stdout",
     "output_type": "stream",
     "text": [
      "   Year  Row_N\n",
      "0  1896     27\n",
      "1  1900     26\n",
      "2  1904     25\n",
      "3  1908     24\n",
      "4  1912     23\n",
      "   Year  Row_N\n",
      "0  1896     27\n",
      "1  1900     26\n",
      "2  1904     25\n",
      "3  1908     24\n",
      "4  1912     23\n"
     ]
    }
   ],
   "source": [
    "# Assign a number to each year in which Summer Olympic games \n",
    "# were held so that rows with the most recent years have lower row numbers.\n",
    "query = \"\"\"\n",
    "SELECT\n",
    "  Year,\n",
    "  -- Assign the lowest numbers to the most recent years\n",
    "  ROW_NUMBER() OVER (ORDER BY Year DESC) AS Row_N\n",
    "FROM (\n",
    "  SELECT DISTINCT Year\n",
    "  FROM summer_medals\n",
    ") AS Years\n",
    "ORDER BY Year;\n",
    "\"\"\"\n",
    "# Execute the SQL query on the DataFrame\n",
    "result = ps.sqldf(query, locals())\n",
    "print(result.head())\n",
    "\n",
    "\n",
    "''' The same result with Pandas: '''\n",
    "# Get distinct years and sort them in descending order\n",
    "years_desc = summer_medals['Year'].drop_duplicates().sort_values(ascending=True).reset_index(drop=True)\n",
    "\n",
    "# Assign row numbers to each year in the DataFrame years using the range function\n",
    "years_df_desc = pd.DataFrame({'Year': years_desc, 'Row_N': range(len(years_desc), 0, -1)}) # -1 is the step argument that decrements the row numbers by 1   \n",
    "'''\n",
    "len(years_desc): This determines the starting value of the range, which is the length of the years_desc list.\n",
    "0: This is the stopping value, which is exclusive, meaning the range will stop before reaching 0.\n",
    "-1: This is the step value, indicating that the range will DECREMENT by 1 for each step.'''\n",
    "print(years_df_desc.head())"
   ]
  },
  {
   "cell_type": "markdown",
   "metadata": {},
   "source": [
    "### Exercise 1.07: Numbering Olympic athletes by medals earned\n",
    "Row numbering can also be used for ranking. For example, numbering rows and ordering by the count of medals each athlete earned in the OVER clause will assign 1 to the highest-earning medalist, 2 to the second highest-earning medalist, and so on."
   ]
  },
  {
   "cell_type": "code",
   "execution_count": 535,
   "metadata": {},
   "outputs": [
    {
     "data": {
      "text/plain": [
       "Index(['Year', 'City', 'Sport', 'Discipline', 'Athlete', 'Country', 'Gender',\n",
       "       'Event', 'Medal'],\n",
       "      dtype='object')"
      ]
     },
     "execution_count": 535,
     "metadata": {},
     "output_type": "execute_result"
    }
   ],
   "source": [
    "summer.columns"
   ]
  },
  {
   "cell_type": "code",
   "execution_count": 536,
   "metadata": {},
   "outputs": [
    {
     "name": "stdout",
     "output_type": "stream",
     "text": [
      "               Athlete  Medals  Row_N\n",
      "0       PHELPS Michael      22      1\n",
      "1      LATYNINA Larisa      18      2\n",
      "2    ANDRIANOV Nikolay      15      3\n",
      "3  MANGIAROTTI Edoardo      13      4\n",
      "4          ONO Takashi      13      5\n",
      "5       SHAKHLIN Boris      13      6\n",
      "               Athlete  Medals  Row_N\n",
      "0       PHELPS Michael      22      1\n",
      "1      LATYNINA Larisa      18      2\n",
      "2    ANDRIANOV Nikolay      15      3\n",
      "3          ONO Takashi      13      4\n",
      "4  MANGIAROTTI Edoardo      13      5\n",
      "5       SHAKHLIN Boris      13      6\n"
     ]
    }
   ],
   "source": [
    "# Step1: For each athlete, count the number of medals he or she has earned.\n",
    "# Step2: Having wrapped the previous query in the Athlete_Medals CTE, \n",
    "# rank each athlete by the number of medals they've earned.\n",
    "query = '''\n",
    "WITH Athlete_Medals AS (\n",
    "  SELECT\n",
    "    -- Step1: Count the number of medals each athlete has earned\n",
    "    Athlete,\n",
    "    COUNT(*) AS Medals\n",
    "  FROM summer_medals\n",
    "  GROUP BY Athlete)\n",
    "\n",
    "SELECT\n",
    "  -- Step2: Number each athlete by how many medals they've earned\n",
    "  Athlete,\n",
    "  Medals,\n",
    "  ROW_NUMBER() OVER (ORDER BY Medals DESC) AS Row_N\n",
    "FROM Athlete_Medals\n",
    "ORDER BY Medals DESC;\n",
    "'''\n",
    "# Execute the SQL query on the DataFrame\n",
    "result = ps.sqldf(query, locals())\n",
    "print(result.head(6))\n",
    "\n",
    "''' The same result with Pandas: '''\n",
    "# Step 1: Count the number of medals each athlete has earned\n",
    "medals_per_athlete = summer['Athlete'].value_counts().reset_index()\n",
    "medals_per_athlete.columns = ['Athlete', 'Medals']\n",
    "\n",
    "# Step 2: Rank each athlete by the number of medals they've earned\n",
    "medals_per_athlete['Row_N'] = medals_per_athlete['Medals'].rank(method='first'\n",
    "                                                      , ascending=False).astype(int)\n",
    "'''The ranking is performed using the rank method from the pandas library, \n",
    "which is applied to the Medals column of the DataFrame.\n",
    "\n",
    "The rank method is configured with the method='first' parameter, \n",
    "which assigns ranks in the order the values appear in the array, \n",
    "ensuring that ties are resolved by the ORDER OF APPEARANCE!\n",
    "The ascending=False parameter indicates that the ranking should be in descending order, \n",
    "meaning that athletes with more medals will receive a higher rank \n",
    "(i.e., a lower numerical value).\n",
    "\n",
    "After computing the ranks, the astype(int) method is used to convert \n",
    "the resulting ranks from floating-point numbers to integers. \n",
    "This conversion is necessary because the rank method returns ranks as floats by default, \n",
    "even when there are no ties. The final result is that the Row_N column contains \n",
    "integer ranks, making it easier to read and interpret the ranking of athletes based on \n",
    "their medal counts.\n",
    "\n",
    "'''\n",
    "# Sort by the number of medals in descending order\n",
    "medals_per_athlete = medals_per_athlete.sort_values(by='Medals'\n",
    "                                              , ascending=False).reset_index(drop=True)\n",
    "\n",
    "# Display the result\n",
    "print(medals_per_athlete.head(6))\n",
    "\n"
   ]
  },
  {
   "cell_type": "markdown",
   "metadata": {},
   "source": [
    "### Exercise 1.08: Reigning weightlifting champions\n",
    "A reigning champion is a champion who's won both the previous and current years' competitions. To determine if a champion is reigning, the previous and current years' results need to be in the same row, in two different columns. "
   ]
  },
  {
   "cell_type": "code",
   "execution_count": 537,
   "metadata": {},
   "outputs": [
    {
     "data": {
      "text/plain": [
       "Index(['Year', 'City', 'Sport', 'Discipline', 'Athlete', 'Country', 'Gender',\n",
       "       'Event', 'Medal'],\n",
       "      dtype='object')"
      ]
     },
     "execution_count": 537,
     "metadata": {},
     "output_type": "execute_result"
    }
   ],
   "source": [
    "summer.columns"
   ]
  },
  {
   "cell_type": "code",
   "execution_count": 538,
   "metadata": {},
   "outputs": [
    {
     "name": "stdout",
     "output_type": "stream",
     "text": [
      "   Year champion Last_Champion\n",
      "0  2000      BUL          None\n",
      "1  2004      CHN           BUL\n",
      "2  2008      CHN           CHN\n",
      "3  2012      CHN           CHN\n"
     ]
    },
    {
     "data": {
      "text/plain": [
       "' The same result with Pandas: '"
      ]
     },
     "execution_count": 538,
     "metadata": {},
     "output_type": "execute_result"
    }
   ],
   "source": [
    "# Step1: Return each year's gold medalists in the Men's 69KG weightlifting competition.\n",
    "# Step2: Having wrapped the previous query in the Weightlifting_Gold CTE, \n",
    "# get the previous year's champion for each year.\n",
    "query = '''\n",
    "WITH Weightlifting_Gold AS (\n",
    "  SELECT\n",
    "    -- Return each year's champions' countries\n",
    "    Year,\n",
    "    Country AS champion\n",
    "  FROM summer_medals\n",
    "  WHERE\n",
    "    Discipline = 'Weightlifting' AND\n",
    "    Event = '69KG' AND\n",
    "    Gender = 'Men' AND\n",
    "    Medal = 'Gold')\n",
    "\n",
    "SELECT\n",
    "  Year, Champion,\n",
    "  -- Fetch the previous year's champion \n",
    "  -- LAG() function fetches the value from the previous row in the specified column (Champion)\n",
    "  LAG(Champion) OVER (ORDER BY Year ASC) AS Last_Champion \n",
    "FROM Weightlifting_Gold\n",
    "ORDER BY Year ASC;\n",
    "'''\n",
    "# Execute the SQL query on the DataFrame\n",
    "result = ps.sqldf(query, locals())\n",
    "print(result.head(6))\n",
    "\n",
    "''' The same result with Pandas: '''"
   ]
  },
  {
   "cell_type": "markdown",
   "metadata": {},
   "source": [
    "### Video 1.09: PARTITION BY\n",
    "[https://campus.datacamp.com/courses/postgresql-summary-stats-and-window-functions/introduction-to-window-functions?ex=9]"
   ]
  },
  {
   "cell_type": "markdown",
   "metadata": {},
   "source": [
    "### Exercise 1.10: Reigning champions by gender\n",
    "You've already fetched the previous year's champion for one event. However, if you have multiple events, genders, or other metrics as columns, you'll need to split your table into partitions to avoid having a champion from one event or gender appear as the previous champion of another event or gender."
   ]
  },
  {
   "cell_type": "code",
   "execution_count": 539,
   "metadata": {},
   "outputs": [
    {
     "data": {
      "text/plain": [
       "Index(['Year', 'City', 'Sport', 'Discipline', 'Athlete', 'Country', 'Gender',\n",
       "       'Event', 'Medal'],\n",
       "      dtype='object')"
      ]
     },
     "execution_count": 539,
     "metadata": {},
     "output_type": "execute_result"
    }
   ],
   "source": [
    "summer_medals.columns"
   ]
  },
  {
   "cell_type": "code",
   "execution_count": 540,
   "metadata": {},
   "outputs": [
    {
     "name": "stdout",
     "output_type": "stream",
     "text": [
      "  Gender  Year Champion Last_Champion\n",
      "0    Men  2000      CZE          None\n",
      "1    Men  2004      NOR           CZE\n",
      "2    Men  2008      NOR           NOR\n",
      "3    Men  2012      TTO           NOR\n",
      "4  Women  2000      NOR          None\n",
      "5  Women  2004      CUB           NOR\n",
      "6  Women  2008      CZE           CUB\n",
      "7  Women  2012      CZE           CZE\n",
      "  Gender  Year Champion Last_Champion\n",
      "0    Men  2000      CZE           NaN\n",
      "1    Men  2004      NOR           CZE\n",
      "2    Men  2008      NOR           NOR\n",
      "3    Men  2012      TTO           NOR\n",
      "4  Women  2000      NOR           NaN\n",
      "5  Women  2004      CUB           NOR\n",
      "6  Women  2008      CZE           CUB\n",
      "7  Women  2012      CZE           CZE\n"
     ]
    }
   ],
   "source": [
    "# Use LAG, partitioning by the gender column and ordering by year in ascending order.\n",
    "query = '''\n",
    "WITH Tennis_Gold AS (\n",
    "  SELECT DISTINCT\n",
    "    Gender, Year, Country\n",
    "  FROM summer_medals\n",
    "  WHERE\n",
    "    Year >= 2000 AND\n",
    "    Event = 'Javelin Throw' AND\n",
    "    Medal = 'Gold')\n",
    "\n",
    "SELECT\n",
    "  Gender, Year,\n",
    "  Country AS Champion,\n",
    "  -- Fetch the previous year's champion by gender\n",
    "  LAG(Country) OVER (PARTITION BY Gender\n",
    "                         ORDER BY Year ASC) AS Last_Champion\n",
    "FROM Tennis_Gold\n",
    "ORDER BY Gender ASC, Year ASC;\n",
    "'''\n",
    "# Execute the SQL query on the DataFrame\n",
    "result = ps.sqldf(query, locals())\n",
    "print(result)\n",
    "\n",
    "''' The same result using Python and the pandas library:'''\n",
    "# Filter the DataFrame for the specified conditions\n",
    "filtered_df = summer_medals[(summer_medals['Year'] >= 2000) & \n",
    "                            (summer_medals['Event'] == 'Javelin Throw') & \n",
    "                            (summer_medals['Medal'] == 'Gold')]\n",
    "\n",
    "# Sort the DataFrame by Gender and Year\n",
    "filtered_df = filtered_df.sort_values(by=['Gender', 'Year'])\n",
    "\n",
    "# .shift(1) fetches the value from the previous row in the specified column (Country) \n",
    "filtered_df['Last_Champion'] = filtered_df.groupby('Gender')['Country'].shift(1)\n",
    "\n",
    "# Rename columns to match the SQL query result\n",
    "filtered_df = filtered_df.rename(columns={'Country': 'Champion'}).reset_index(drop=True)\n",
    "\n",
    "print(filtered_df[['Gender', 'Year', 'Champion', 'Last_Champion']])"
   ]
  },
  {
   "cell_type": "markdown",
   "metadata": {},
   "source": [
    "### Exercise 1.11: Reigning champions by gender and event\n",
    "In the previous exercise, you partitioned by gender to ensure that data about one gender doesn't get mixed into data about the other gender. If you have multiple columns, however, partitioning by only one of them will still mix the results of the other columns."
   ]
  },
  {
   "cell_type": "code",
   "execution_count": 541,
   "metadata": {},
   "outputs": [
    {
     "name": "stdout",
     "output_type": "stream",
     "text": [
      "   Gender  Year   Event Champion Last_Champion\n",
      "0     Men  2000  10000M      ETH          None\n",
      "1     Men  2004  10000M      ETH           ETH\n",
      "2     Men  2008  10000M      ETH           ETH\n",
      "3     Men  2012  10000M      GBR           ETH\n",
      "4   Women  2000  10000M      ETH          None\n",
      "5   Women  2004  10000M      CHN           ETH\n",
      "6   Women  2008  10000M      ETH           CHN\n",
      "7   Women  2012  10000M      ETH           ETH\n",
      "8     Men  2000    100M      USA          None\n",
      "9     Men  2004    100M      USA           USA\n",
      "10    Men  2008    100M      JAM           USA\n",
      "11    Men  2012    100M      JAM           JAM\n",
      "12  Women  2004    100M      BLR          None\n",
      "13  Women  2008    100M      JAM           BLR\n",
      "14  Women  2012    100M      JAM           JAM\n",
      "   Gender  Year   Event Champion Last_Champion\n",
      "0     Men  2000  10000M      ETH           NaN\n",
      "1     Men  2004  10000M      ETH           ETH\n",
      "2     Men  2008  10000M      ETH           ETH\n",
      "3     Men  2012  10000M      GBR           ETH\n",
      "4   Women  2000  10000M      ETH           NaN\n",
      "5   Women  2004  10000M      CHN           ETH\n",
      "6   Women  2008  10000M      ETH           CHN\n",
      "7   Women  2012  10000M      ETH           ETH\n",
      "8     Men  2000    100M      USA           NaN\n",
      "9     Men  2004    100M      USA           USA\n",
      "10    Men  2008    100M      JAM           USA\n",
      "11    Men  2012    100M      JAM           JAM\n",
      "12  Women  2004    100M      BLR           NaN\n",
      "13  Women  2008    100M      JAM           BLR\n",
      "14  Women  2012    100M      JAM           JAM\n"
     ]
    }
   ],
   "source": [
    "# Return the previous champions of each year's events by gender and event.\n",
    "query = '''\n",
    "WITH Athletics_Gold AS (\n",
    "  SELECT DISTINCT\n",
    "    Gender, Year, Event, Country\n",
    "  FROM summer_medals\n",
    "  WHERE\n",
    "    Year >= 2000 AND\n",
    "    Discipline = 'Athletics' AND\n",
    "    Event IN ('100M', '10000M') AND\n",
    "    Medal = 'Gold')\n",
    "\n",
    "SELECT\n",
    "  Gender, Year, Event,\n",
    "  Country AS Champion,\n",
    "  -- Fetch the previous year's champion by gender and event\n",
    "  LAG(Country) OVER (PARTITION BY Gender, Event\n",
    "                         ORDER BY Year ASC) AS Last_Champion\n",
    "FROM Athletics_Gold\n",
    "ORDER BY Event ASC, Gender ASC, Year ASC;\n",
    "'''\n",
    "# Execute the SQL query on the DataFrame\n",
    "result = ps.sqldf(query, locals())\n",
    "print(result)\n",
    "\n",
    "''' The same result using Python and the pandas library:'''\n",
    "# Filter the DataFrame for the specified conditions\n",
    "filtered_df = summer_medals[(summer_medals['Year'] >= 2000) & \n",
    "                            (summer_medals['Discipline'] == 'Athletics') & \n",
    "                            (summer_medals['Event'].isin(['100M', '10000M'])) & \n",
    "                            (summer_medals['Medal'] == 'Gold')]\n",
    "''' filtered_df = summer_medals.query( # The same but using the query method of the DataFrame class to filter the DataFrame. \n",
    "    \"Year >= 2000 and Discipline == 'Athletics' and Event in ['100M', '10000M'] and Medal == 'Gold'\"\n",
    ") '''\n",
    "\n",
    "# Sort the DataFrame by Event, Gender, and Year\n",
    "filtered_df = filtered_df.sort_values(by=['Event', 'Gender', 'Year'])\n",
    "\n",
    "# Use the shift method to fetch the previous year's champion by gender and event\n",
    "filtered_df['Last_Champion'] = filtered_df.groupby(['Gender', 'Event'])['Country'].shift(1)\n",
    "\n",
    "# Rename columns to match the SQL query result\n",
    "filtered_df = filtered_df.rename(columns={'Country': 'Champion'}).reset_index(drop=True)\n",
    "\n",
    "print(filtered_df[['Gender', 'Year', 'Event', 'Champion', 'Last_Champion']])\n"
   ]
  },
  {
   "cell_type": "markdown",
   "metadata": {},
   "source": [
    "## Chapter 2: Fetching, ranking, and paging\n",
    "In this chapter, you'll learn three practical applications of window functions: fetching values from different parts of the table, ranking rows according to their values, and binning rows into different tables.\n"
   ]
  },
  {
   "cell_type": "markdown",
   "metadata": {},
   "source": [
    "### Video 2.01: Fetching\n",
    "[https://campus.datacamp.com/courses/postgresql-summary-stats-and-window-functions/fetching-ranking-and-paging?ex=1]"
   ]
  },
  {
   "cell_type": "markdown",
   "metadata": {},
   "source": [
    "### Execise 2.02: Future gold medalists\n",
    "Fetching functions allow you to get values from different parts of the table into one row. If you have time-ordered data, you can \"peek into the future\" with the LEAD fetching function. This is especially useful if you want to compare a current value to a future value."
   ]
  },
  {
   "cell_type": "code",
   "execution_count": 542,
   "metadata": {},
   "outputs": [
    {
     "data": {
      "text/plain": [
       "Index(['Year', 'City', 'Sport', 'Discipline', 'Athlete', 'Country', 'Gender',\n",
       "       'Event', 'Medal'],\n",
       "      dtype='object')"
      ]
     },
     "execution_count": 542,
     "metadata": {},
     "output_type": "execute_result"
    }
   ],
   "source": [
    "summer_medals.columns"
   ]
  },
  {
   "cell_type": "code",
   "execution_count": 543,
   "metadata": {},
   "outputs": [
    {
     "name": "stdout",
     "output_type": "stream",
     "text": [
      "   Year                  Athlete  Future_Champion\n",
      "0  2000           ZVEREVA Ellina  PERKOVIC Sandra\n",
      "1  2004           SADOVA Natalya             None\n",
      "2  2008  BROWN TRAFTON Stephanie             None\n",
      "3  2012          PERKOVIC Sandra             None\n",
      "   Year                  Athlete  Future_Champion\n",
      "0  2000           ZVEREVA Ellina  PERKOVIC Sandra\n",
      "1  2004           SADOVA Natalya             None\n",
      "2  2008  BROWN TRAFTON Stephanie             None\n",
      "3  2012          PERKOVIC Sandra             None\n"
     ]
    }
   ],
   "source": [
    "# For each year, fetch the current gold medalist and the gold medalist \n",
    "# 3 competitions ahead of the current row.\n",
    "query = '''\n",
    "WITH Discus_Medalists AS (\n",
    "  SELECT DISTINCT\n",
    "    Year,\n",
    "    Athlete\n",
    "  FROM summer_medals\n",
    "  WHERE Medal = 'Gold'\n",
    "    AND Event = 'Discus Throw'\n",
    "    AND Gender = 'Women'\n",
    "    AND Year >= 2000)\n",
    "\n",
    "SELECT\n",
    "  -- For each year, fetch the current and future medalists\n",
    "  Year,\n",
    "  Athlete,\n",
    "  LEAD(Athlete, 3) OVER (ORDER BY Year ASC) AS Future_Champion\n",
    "FROM Discus_Medalists\n",
    "ORDER BY Year ASC;\n",
    "'''\n",
    "# Execute the SQL query on the DataFrame\n",
    "result = ps.sqldf(query, locals())\n",
    "print(result)\n",
    "\n",
    "''' The same result using Python and the pandas library:'''\n",
    "# Filter the DataFrame for the specified conditions\n",
    "filtered_df = summer_medals[(summer_medals['Medal'] == 'Gold') & \n",
    "                            (summer_medals['Event'] == 'Discus Throw') & \n",
    "                            (summer_medals['Gender'] == 'Women') & \n",
    "                            (summer_medals['Year'] >= 2000)]\n",
    "\n",
    "# Sort the DataFrame by Year\n",
    "filtered_df = filtered_df.sort_values(by='Year').reset_index(drop=True)\n",
    "\n",
    "# Use the shift method to fetch the future champion 3 competitions ahead\n",
    "filtered_df['Future_Champion'] = filtered_df['Athlete'].shift(-3)\n",
    "\n",
    "# Display the result\n",
    "print(filtered_df[['Year', 'Athlete', 'Future_Champion']])\n",
    "\n",
    "\n",
    "\n"
   ]
  },
  {
   "cell_type": "markdown",
   "metadata": {},
   "source": [
    "### Exercise 2.02: First athlete by name\n",
    "It's often useful to get the first or last value in a dataset to compare all other values to it. With absolute fetching functions like FIRST_VALUE, you can fetch a value at an absolute position in the table, like its beginning or end."
   ]
  },
  {
   "cell_type": "code",
   "execution_count": 544,
   "metadata": {},
   "outputs": [
    {
     "name": "stdout",
     "output_type": "stream",
     "text": [
      "                       Athlete First_Athlete\n",
      "0                  AABYE Edgar   AABYE Edgar\n",
      "1      AALTONEN Paavo Johannes   AABYE Edgar\n",
      "2          AAS Thomas Valentin   AABYE Edgar\n",
      "3           ABALMASAU Aliaksei   AABYE Edgar\n",
      "4                    ABALO Luc   AABYE Edgar\n",
      "...                        ...           ...\n",
      "6240                ÖRVIG Thor   AABYE Edgar\n",
      "6241          ÖSTERVOLD Henrik   AABYE Edgar\n",
      "6242       ÖSTERVOLD Jan Olsen   AABYE Edgar\n",
      "6243  ÖSTERVOLD Kristian Olsen   AABYE Edgar\n",
      "6244       ÖSTERVOLD Ole Olsen   AABYE Edgar\n",
      "\n",
      "[6245 rows x 2 columns]\n",
      "AABYE Edgar\n",
      "                       Athlete First_Athlete\n",
      "0                 HAJOS Alfred   AABYE Edgar\n",
      "1            MALOKINIS Ioannis   AABYE Edgar\n",
      "2                 NEUMANN Paul   AABYE Edgar\n",
      "3                 BURKE Thomas   AABYE Edgar\n",
      "4                CURTIS Thomas   AABYE Edgar\n",
      "...                        ...           ...\n",
      "6240         NOROOZI Omid Haji   AABYE Edgar\n",
      "6241              KIM Hyeonwoo   AABYE Edgar\n",
      "6242              VLASOV Roman   AABYE Edgar\n",
      "6243              KHUGAEV Alan   AABYE Edgar\n",
      "6244  REZAEI Ghasem Gholamreza   AABYE Edgar\n",
      "\n",
      "[6245 rows x 2 columns]\n"
     ]
    }
   ],
   "source": [
    "# Return all athletes and the first athlete ordered by alphabetical order.\n",
    "query = '''\n",
    "WITH All_Male_Medalists AS (\n",
    "  SELECT DISTINCT\n",
    "    Athlete\n",
    "  FROM summer_medals\n",
    "  WHERE Medal = 'Gold'\n",
    "    AND Gender = 'Men')\n",
    "\n",
    "SELECT\n",
    "  -- Fetch all athletes and the first athlete alphabetically\n",
    "  Athlete,\n",
    "  FIRST_VALUE(Athlete) OVER (\n",
    "    ORDER BY Athlete ASC\n",
    "  ) AS First_Athlete\n",
    "FROM All_Male_Medalists;\n",
    "'''\n",
    "# Execute the SQL query on the DataFrame\n",
    "result = ps.sqldf(query, locals())\n",
    "print(result)\n",
    "\n",
    "\n",
    "''' The same result using Python and the pandas library:'''\n",
    "# Fetch all athletes who have won\n",
    "all_male_medalists = summer_medals.query(\"Medal == 'Gold' and Gender == 'Men'\")['Athlete'].drop_duplicates().reset_index(drop=True) \n",
    "\n",
    "# Get the first athlete alphabetically\n",
    "first_athlete = all_male_medalists.min() # min() returns the minimum value in the Series\n",
    "\n",
    "print(first_athlete)\n",
    "\n",
    "# Create a DataFrame with all athletes and the first athlete\n",
    "result_df = pd.DataFrame({'Athlete': all_male_medalists})\n",
    "result_df['First_Athlete'] = first_athlete\n",
    "\n",
    "print(result_df)\n",
    "\n",
    "\n"
   ]
  },
  {
   "cell_type": "markdown",
   "metadata": {},
   "source": [
    "### Exercise 2.03: Last country by name\n",
    "Just like you can get the first row's value in a dataset, you can get the last row's value. This is often useful when you want to compare the most recent value to previous values."
   ]
  },
  {
   "cell_type": "code",
   "execution_count": 545,
   "metadata": {},
   "outputs": [
    {
     "name": "stdout",
     "output_type": "stream",
     "text": [
      "    Year                   City Last_City\n",
      "0   1896                 Athens    London\n",
      "1   1900                  Paris    London\n",
      "2   1904               St Louis    London\n",
      "3   1908                 London    London\n",
      "4   1912              Stockholm    London\n",
      "5   1920                Antwerp    London\n",
      "6   1924                  Paris    London\n",
      "7   1928              Amsterdam    London\n",
      "8   1932            Los Angeles    London\n",
      "9   1936                 Berlin    London\n",
      "10  1948                 London    London\n",
      "11  1952               Helsinki    London\n",
      "12  1956  Melbourne / Stockholm    London\n",
      "13  1960                   Rome    London\n",
      "14  1964                  Tokyo    London\n",
      "15  1968                 Mexico    London\n",
      "16  1972                 Munich    London\n",
      "17  1976               Montreal    London\n",
      "18  1980                 Moscow    London\n",
      "19  1984            Los Angeles    London\n",
      "20  1988                  Seoul    London\n",
      "21  1992              Barcelona    London\n",
      "22  1996                Atlanta    London\n",
      "23  2000                 Sydney    London\n",
      "24  2004                 Athens    London\n",
      "25  2008                Beijing    London\n",
      "26  2012                 London    London\n",
      "    Year                   City Last_City\n",
      "0   1896                 Athens    London\n",
      "1   1900                  Paris    London\n",
      "2   1904               St Louis    London\n",
      "3   1908                 London    London\n",
      "4   1912              Stockholm    London\n",
      "5   1920                Antwerp    London\n",
      "6   1924                  Paris    London\n",
      "7   1928              Amsterdam    London\n",
      "8   1932            Los Angeles    London\n",
      "9   1936                 Berlin    London\n",
      "10  1948                 London    London\n",
      "11  1952               Helsinki    London\n",
      "12  1956  Melbourne / Stockholm    London\n",
      "13  1960                   Rome    London\n",
      "14  1964                  Tokyo    London\n",
      "15  1968                 Mexico    London\n",
      "16  1972                 Munich    London\n",
      "17  1976               Montreal    London\n",
      "18  1980                 Moscow    London\n",
      "19  1984            Los Angeles    London\n",
      "20  1988                  Seoul    London\n",
      "21  1992              Barcelona    London\n",
      "22  1996                Atlanta    London\n",
      "23  2000                 Sydney    London\n",
      "24  2004                 Athens    London\n",
      "25  2008                Beijing    London\n",
      "26  2012                 London    London\n"
     ]
    }
   ],
   "source": [
    "# Step1: Return the year and the city in which each Olympic games were held.\n",
    "# Step2: Fetch the last city in which the Olympic games were held.\n",
    "query = '''\n",
    "WITH Hosts AS (\n",
    "  SELECT DISTINCT Year, City\n",
    "    FROM Summer_Medals)\n",
    "\n",
    "SELECT\n",
    "  Year,\n",
    "  City,\n",
    "  -- Get the last city in which the Olympic games were held\n",
    "  LAST_VALUE(City) OVER (\n",
    "   ORDER BY Year ASC\n",
    "   RANGE BETWEEN\n",
    "     UNBOUNDED PRECEDING AND \n",
    "     -- The window starts at the first row of the partition and includes all rows up to the current row.\n",
    "     UNBOUNDED FOLLOWING \n",
    "     -- The window ends at the last row of the partition and includes all rows from the current row to the last row.\n",
    "  ) AS Last_City\n",
    "FROM Hosts\n",
    "ORDER BY Year ASC;\n",
    "'''\n",
    "# Execute the SQL query on the DataFrame\n",
    "result = ps.sqldf(query, locals())\n",
    "print(result)\n",
    "\n",
    "''' The same result using Python and the pandas library: '''\n",
    "# Get distinct years and cities where the Olympic games were held and sort them in ascending order\n",
    "hosts = summer_medals[['Year', 'City']].drop_duplicates().sort_values(by='Year').reset_index(drop=True)\n",
    "\n",
    "# Get the last city in which the Olympic games were held \n",
    "last_city = hosts['City'].iloc[-1]\n",
    "\n",
    "# Add the last city to each row in the DataFrame hosts \n",
    "hosts['Last_City'] = last_city\n",
    "\n",
    "print(hosts)\n",
    "\n",
    "\n"
   ]
  },
  {
   "cell_type": "markdown",
   "metadata": {},
   "source": [
    "### Video 2.05 : Ranking\n",
    "[https://campus.datacamp.com/courses/postgresql-summary-stats-and-window-functions/fetching-ranking-and-paging?ex=5]\n"
   ]
  },
  {
   "cell_type": "markdown",
   "metadata": {},
   "source": [
    "### Exercise 2.06: Ranking athletes by medals earned\n",
    "In chapter 1, you used ROW_NUMBER to rank athletes by awarded medals. However, ROW_NUMBER assigns different numbers to athletes with the same count of awarded medals, so it's not a useful ranking function; if two athletes earned the same number of medals, they should have the same rank."
   ]
  },
  {
   "cell_type": "code",
   "execution_count": 546,
   "metadata": {},
   "outputs": [
    {
     "name": "stdout",
     "output_type": "stream",
     "text": [
      "               Athlete  Medals  Rank_N\n",
      "0       PHELPS Michael      22       1\n",
      "1      LATYNINA Larisa      18       2\n",
      "2    ANDRIANOV Nikolay      15       3\n",
      "3  MANGIAROTTI Edoardo      13       4\n",
      "4          ONO Takashi      13       4\n",
      "5       SHAKHLIN Boris      13       4\n",
      "6     COUGHLIN Natalie      12       7\n",
      "7       FISCHER Birgit      12       7\n",
      "8           KATO Sawao      12       7\n",
      "9         NEMOV Alexei      12       7\n",
      "               Athlete  Medals  Rank_N\n",
      "0       PHELPS Michael      22       1\n",
      "1      LATYNINA Larisa      18       2\n",
      "2    ANDRIANOV Nikolay      15       3\n",
      "3          ONO Takashi      13       4\n",
      "4  MANGIAROTTI Edoardo      13       4\n",
      "5       SHAKHLIN Boris      13       4\n",
      "6     COUGHLIN Natalie      12       7\n",
      "7          TORRES Dara      12       7\n",
      "8       THOMPSON Jenny      12       7\n",
      "9         NEMOV Alexei      12       7\n"
     ]
    }
   ],
   "source": [
    "'''Rank each athlete by the number of medals they've earned \n",
    "-- the higher the count, the higher the rank \n",
    "-- with identical numbers in case of identical values.'''\n",
    "# Count the number of medals each athlete has earned\n",
    "# Rank each athlete by the number of medals they've earned\n",
    "query = '''\n",
    "WITH Athlete_Medals AS (\n",
    "  SELECT\n",
    "    Athlete,\n",
    "    COUNT(*) AS Medals\n",
    "  FROM Summer_Medals\n",
    "  GROUP BY Athlete)\n",
    "\n",
    "SELECT\n",
    "  Athlete,\n",
    "  Medals,\n",
    "  -- Rank athletes by the medals they've won\n",
    "  RANK() OVER (ORDER BY Medals DESC) AS Rank_N\n",
    "FROM Athlete_Medals\n",
    "ORDER BY Medals DESC\n",
    "LIMIT 10;\n",
    "'''\n",
    "# Execute the SQL query on the DataFrame\n",
    "result = ps.sqldf(query, locals())\n",
    "print(result)\n",
    "\n",
    "''' The same result using Python and the pandas library: '''\n",
    "# Count the number of medals each athlete has earned\n",
    "medals_per_athlete = summer_medals['Athlete'].value_counts().reset_index()\n",
    "medals_per_athlete.columns = ['Athlete', 'Medals'] # Rename the columns \n",
    "\n",
    "# Rank each athlete by the number of medals they've earned\n",
    "medals_per_athlete['Rank_N'] = medals_per_athlete['Medals'].rank(method='min', ascending=False).astype(int)\n",
    "\n",
    "# Sort by the number of medals in descending order\n",
    "medals_per_athlete = medals_per_athlete.sort_values(by='Medals', ascending=False).reset_index(drop=True)\n",
    "\n",
    "# Display the result\n",
    "print(medals_per_athlete.head(10))\n",
    "\n"
   ]
  },
  {
   "cell_type": "markdown",
   "metadata": {},
   "source": [
    "### Exercise 2.07: Ranking athletes from multiple countries\n",
    "In the previous exercise, you used RANK to assign rankings to one group of athletes. In real-world data, however, you'll often find numerous groups within your data. Without partitioning your data, one group's values will influence the rankings of the others.\n",
    "\n",
    "Also, while RANK skips numbers in case of identical values, the most natural way to assign rankings is not to skip numbers. If two countries are tied for second place, the country after them is considered to be third by most people."
   ]
  },
  {
   "cell_type": "code",
   "execution_count": 547,
   "metadata": {},
   "outputs": [
    {
     "name": "stdout",
     "output_type": "stream",
     "text": [
      "   Country          Athlete  Rank_N\n",
      "0      JPN  KITAJIMA Kosuke       1\n",
      "1      JPN   UCHIMURA Kohei       2\n",
      "2      JPN   TACHIBANA Miya       3\n",
      "3      JPN      TAKEDA Miho       3\n",
      "4      JPN       ICHO Kaori       4\n",
      "..     ...              ...     ...\n",
      "69     KOR      OH Yong Ran       4\n",
      "70     KOR      PARK Jinman       4\n",
      "71     KOR    PARK Kyung-Mo       4\n",
      "72     KOR    YOO Yong-Sung       4\n",
      "73     KOR       YUN Ok-Hee       4\n",
      "\n",
      "[74 rows x 3 columns]\n",
      "   Country          Athlete  Medals  Rank_N\n",
      "0      JPN  KITAJIMA Kosuke       7       1\n",
      "1      JPN   UCHIMURA Kohei       5       2\n",
      "2      JPN   TACHIBANA Miya       4       3\n",
      "3      JPN      TAKEDA Miho       4       3\n",
      "4      JPN       ICHO Kaori       3       4\n",
      "..     ...              ...     ...     ...\n",
      "69     KOR      OH Yong Ran       2       4\n",
      "70     KOR      PARK Jinman       2       4\n",
      "71     KOR    PARK Kyung-Mo       2       4\n",
      "72     KOR    YOO Yong-Sung       2       4\n",
      "73     KOR       YUN Ok-Hee       2       4\n",
      "\n",
      "[74 rows x 4 columns]\n"
     ]
    }
   ],
   "source": [
    "'''Rank each country's athletes by the count of medals they've earned \n",
    "-- the higher the count, the higher the rank \n",
    "-- without skipping numbers in case of identical values.'''\n",
    "# Count the number of medals each athlete has earned\n",
    "# Rank each athlete by the number of medals they've earned\n",
    "query = '''\n",
    "WITH Athlete_Medals AS (\n",
    "  SELECT\n",
    "    Country, Athlete, COUNT(*) AS Medals\n",
    "  FROM Summer_Medals\n",
    "  WHERE\n",
    "    Country IN ('JPN', 'KOR')\n",
    "    AND Year >= 2000\n",
    "  GROUP BY Country, Athlete\n",
    "  HAVING COUNT(*) > 1 -- Filter out athletes with only 1 medal\n",
    "  ) \n",
    "\n",
    "SELECT\n",
    "  Country,\n",
    "  -- Rank athletes in each country by the medals they've won\n",
    "  Athlete,\n",
    "  DENSE_RANK() OVER (PARTITION BY Country\n",
    "                         ORDER BY Medals DESC) AS Rank_N\n",
    "FROM Athlete_Medals\n",
    "ORDER BY Country ASC, RANK_N ASC;\n",
    "'''\n",
    "# Execute the SQL query on the DataFrame\n",
    "result = ps.sqldf(query, locals())\n",
    "print(result)\n",
    "\n",
    "''' The same result using Python and the pandas library: '''\n",
    "# Filter the DataFrame for the specified conditions\n",
    "filtered_df = Summer_Medals[(Summer_Medals['Country'].isin(['JPN', 'KOR'])) & \n",
    "                            (Summer_Medals['Year'] >= 2000)]\n",
    "\n",
    "# size() counts the number of medals each athlete has earned in each country \n",
    "medals_per_athlete = filtered_df.groupby(['Country', 'Athlete']).size().reset_index(name='Medals') \n",
    "\n",
    "# Filter out athletes with only 1 medal \n",
    "medals_per_athlete = medals_per_athlete[medals_per_athlete['Medals'] > 1]\n",
    "\n",
    "# Rank athletes in each country by the number of medals they've earned\n",
    "medals_per_athlete['Rank_N'] = medals_per_athlete.groupby('Country')['Medals'].rank(method='dense', ascending=False).astype(int)\n",
    "\n",
    "# Sort by Country and Rank_N in ascending order\n",
    "medals_per_athlete = medals_per_athlete.sort_values(by=['Country', 'Rank_N']).reset_index(drop=True)\n",
    "\n",
    "# Display the result\n",
    "print(medals_per_athlete)\n",
    "\n"
   ]
  },
  {
   "cell_type": "markdown",
   "metadata": {},
   "source": [
    "### Video 2.09: Paging\n",
    "[https://campus.datacamp.com/courses/postgresql-summary-stats-and-window-functions/fetching-ranking-and-paging?ex=9]"
   ]
  },
  {
   "cell_type": "markdown",
   "metadata": {},
   "source": [
    "### Exercise 2.10: Paging events\n",
    "There are exactly 666 unique events in the Summer Medals Olympics dataset. If you want to chunk them up to analyze them piece by piece, you'll need to split the events into groups of approximately equal size."
   ]
  },
  {
   "cell_type": "code",
   "execution_count": 548,
   "metadata": {},
   "outputs": [
    {
     "name": "stdout",
     "output_type": "stream",
     "text": [
      "                                 Event  Page\n",
      "0                              + 100KG     1\n",
      "1                + 100KG (Heavyweight)     1\n",
      "2          + 100KG (Super Heavyweight)     1\n",
      "3                              + 105KG     1\n",
      "4    + 108KG Total (Super Heavyweight)     1\n",
      "..                                 ...   ...\n",
      "661      York Round (100Y - 80Y - 60Y)   111\n",
      "662          Épée Amateurs And Masters   111\n",
      "663                    Épée Individual   111\n",
      "664                       Épée Masters   111\n",
      "665                          Épée Team   111\n",
      "\n",
      "[666 rows x 2 columns]\n",
      "                                 Event  Page\n",
      "0                              + 100KG     1\n",
      "1                + 100KG (Heavyweight)     1\n",
      "2          + 100KG (Super Heavyweight)     1\n",
      "3                              + 105KG     1\n",
      "4    + 108KG Total (Super Heavyweight)     1\n",
      "..                                 ...   ...\n",
      "661      York Round (100Y - 80Y - 60Y)   111\n",
      "662          Épée Amateurs And Masters   111\n",
      "663                    Épée Individual   111\n",
      "664                       Épée Masters   111\n",
      "665                          Épée Team   111\n",
      "\n",
      "[666 rows x 2 columns]\n"
     ]
    }
   ],
   "source": [
    "'''Split the distinct events into exactly 111 groups, \n",
    "ordered by event in alphabetical order.'''\n",
    "# Split the distinct events into exactly 111 groups\n",
    "query = '''\n",
    "WITH Events AS (\n",
    "  SELECT DISTINCT Event\n",
    "  FROM Summer_Medals)\n",
    "  \n",
    "SELECT\n",
    "  --- Split up the distinct events into 111 unique groups\n",
    "  Event,\n",
    "  NTILE(111) OVER (ORDER BY Event ASC) AS Page\n",
    "FROM Events\n",
    "ORDER BY Event ASC;\n",
    "'''\n",
    "# Execute the SQL query on the DataFrame\n",
    "result = ps.sqldf(query, locals())\n",
    "print(result)\n",
    "\n",
    "''' The same result using Python and the pandas library: '''\n",
    "# Get distinct events and sort them in alphabetical order\n",
    "events = summer_medals['Event'].drop_duplicates().sort_values().reset_index(drop=True)\n",
    "\n",
    "# Split the distinct events into 111 unique groups using the NTILE equivalent in pandas\n",
    "# pd.qcut() splits the data into quantiles based on the number of groups specified \n",
    "# +1 to start the numbering from 1 instead of 0 \n",
    "# metohd='first' to assign the same rank to identical values in the same order they appear in the array\n",
    "events_df = pd.DataFrame({'Event': events, 'Page': pd.qcut(events.rank(method='first'), 111, labels=False) + 1}) \n",
    "\n",
    "print(events_df)\n",
    "\n",
    "\n",
    "\n",
    "\n"
   ]
  },
  {
   "cell_type": "markdown",
   "metadata": {},
   "source": [
    "### Exercise 2.11: Top, middle, and bottom thirds\n",
    "Splitting your data into thirds or quartiles is often useful to understand how the values in your dataset are spread. Getting summary statistics (averages, sums, standard deviations, etc.) of the top, middle, and bottom thirds can help you determine what distribution your values follow."
   ]
  },
  {
   "cell_type": "code",
   "execution_count": 549,
   "metadata": {},
   "outputs": [
    {
     "data": {
      "text/html": [
       "<div>\n",
       "<style scoped>\n",
       "    .dataframe tbody tr th:only-of-type {\n",
       "        vertical-align: middle;\n",
       "    }\n",
       "\n",
       "    .dataframe tbody tr th {\n",
       "        vertical-align: top;\n",
       "    }\n",
       "\n",
       "    .dataframe thead th {\n",
       "        text-align: right;\n",
       "    }\n",
       "</style>\n",
       "<table border=\"1\" class=\"dataframe\">\n",
       "  <thead>\n",
       "    <tr style=\"text-align: right;\">\n",
       "      <th></th>\n",
       "      <th>Year</th>\n",
       "      <th>City</th>\n",
       "      <th>Sport</th>\n",
       "      <th>Discipline</th>\n",
       "      <th>Athlete</th>\n",
       "      <th>Country</th>\n",
       "      <th>Gender</th>\n",
       "      <th>Event</th>\n",
       "      <th>Medal</th>\n",
       "    </tr>\n",
       "  </thead>\n",
       "  <tbody>\n",
       "    <tr>\n",
       "      <th>0</th>\n",
       "      <td>1896</td>\n",
       "      <td>Athens</td>\n",
       "      <td>Aquatics</td>\n",
       "      <td>Swimming</td>\n",
       "      <td>HAJOS Alfred</td>\n",
       "      <td>HUN</td>\n",
       "      <td>Men</td>\n",
       "      <td>100M Freestyle</td>\n",
       "      <td>Gold</td>\n",
       "    </tr>\n",
       "    <tr>\n",
       "      <th>1</th>\n",
       "      <td>1896</td>\n",
       "      <td>Athens</td>\n",
       "      <td>Aquatics</td>\n",
       "      <td>Swimming</td>\n",
       "      <td>HERSCHMANN Otto</td>\n",
       "      <td>AUT</td>\n",
       "      <td>Men</td>\n",
       "      <td>100M Freestyle</td>\n",
       "      <td>Silver</td>\n",
       "    </tr>\n",
       "    <tr>\n",
       "      <th>2</th>\n",
       "      <td>1896</td>\n",
       "      <td>Athens</td>\n",
       "      <td>Aquatics</td>\n",
       "      <td>Swimming</td>\n",
       "      <td>DRIVAS Dimitrios</td>\n",
       "      <td>GRE</td>\n",
       "      <td>Men</td>\n",
       "      <td>100M Freestyle For Sailors</td>\n",
       "      <td>Bronze</td>\n",
       "    </tr>\n",
       "  </tbody>\n",
       "</table>\n",
       "</div>"
      ],
      "text/plain": [
       "   Year    City     Sport Discipline           Athlete Country Gender  \\\n",
       "0  1896  Athens  Aquatics   Swimming      HAJOS Alfred     HUN    Men   \n",
       "1  1896  Athens  Aquatics   Swimming   HERSCHMANN Otto     AUT    Men   \n",
       "2  1896  Athens  Aquatics   Swimming  DRIVAS Dimitrios     GRE    Men   \n",
       "\n",
       "                        Event   Medal  \n",
       "0              100M Freestyle    Gold  \n",
       "1              100M Freestyle  Silver  \n",
       "2  100M Freestyle For Sailors  Bronze  "
      ]
     },
     "execution_count": 549,
     "metadata": {},
     "output_type": "execute_result"
    }
   ],
   "source": [
    "summer_medals.head(3)"
   ]
  },
  {
   "cell_type": "code",
   "execution_count": 550,
   "metadata": {},
   "outputs": [],
   "source": [
    "# Sort by Third in ascending order, Medals in descending order, and Athlete in ascending order\n",
    "# medals_per_athlete = medals_per_athlete.sort_values(by=['Third', 'Medals', 'Athlete'], ascending=[True, False, True]).reset_index(drop=True)"
   ]
  },
  {
   "cell_type": "code",
   "execution_count": 551,
   "metadata": {},
   "outputs": [
    {
     "name": "stdout",
     "output_type": "stream",
     "text": [
      "   Third  Avg_Medals\n",
      "0      1    3.786446\n",
      "1      2    2.000000\n",
      "2      3    2.000000\n",
      "   Third  Avg_Medals\n",
      "0      3    3.787464\n",
      "1      1    2.000000\n",
      "2      2    2.000000\n",
      "  Third  Avg_Medals\n",
      "0     1    3.786446\n",
      "1     2    2.000000\n",
      "2     3    2.000000\n"
     ]
    },
    {
     "name": "stderr",
     "output_type": "stream",
     "text": [
      "/var/folders/9l/hrrtsvvx7_v1n1nd2s2h8k4r0000gn/T/ipykernel_2928/3517091980.py:80: FutureWarning:\n",
      "\n",
      "The default of observed=False is deprecated and will be changed to True in a future version of pandas. Pass observed=False to retain current behavior or observed=True to adopt the future default and silence this warning.\n",
      "\n"
     ]
    }
   ],
   "source": [
    "# Split the athletes into top, middle, and bottom thirds based on their count of medals.\n",
    "# Get the average medals earned in each third.\n",
    "query = '''\n",
    "WITH Athlete_Medals AS (\n",
    "  SELECT Athlete, COUNT(*) AS Medals\n",
    "  FROM Summer_Medals\n",
    "  GROUP BY Athlete\n",
    "  HAVING COUNT(*) > 1),\n",
    "  \n",
    "  Thirds AS (\n",
    "  SELECT\n",
    "    Athlete,\n",
    "    Medals,\n",
    "    NTILE(3) OVER (ORDER BY Medals DESC) AS Third\n",
    "  FROM Athlete_Medals)\n",
    "  \n",
    "SELECT\n",
    "  -- Get the average medals earned in each third\n",
    "  Third,\n",
    "  AVG(Medals) AS Avg_Medals\n",
    "FROM Thirds\n",
    "GROUP BY Third\n",
    "ORDER BY Third ASC;\n",
    "'''\n",
    "# Execute the SQL query on the DataFrame\n",
    "result = ps.sqldf(query, locals())\n",
    "print(result)\n",
    "\n",
    "'''The same result using Python and the pandas library:'''\n",
    "# Count the number of medals each athlete has earned\n",
    "medals_per_athlete = summer_medals['Athlete'].value_counts().reset_index()\n",
    "medals_per_athlete.columns = ['Athlete', 'Medals']\n",
    "\n",
    "# Filter out athletes with only 1 medal\n",
    "medals_per_athlete = medals_per_athlete[medals_per_athlete['Medals'] > 1]\n",
    "\n",
    "# Split the athletes into top, middle, and bottom thirds based on their count of medals\n",
    "medals_per_athlete['Third'] = pd.cut( # Split the athletes into thirds based on the number of medals they've won\n",
    "    medals_per_athlete['Medals']\n",
    "    .rank(method='first'), 3, labels=False) + 1 \n",
    "# .rank(method='first') assigns ranks in the order the values appear in the array\n",
    "# 3 is the number of bins to split the data into\n",
    "# labels=False returns integer bin numbers instead of labels\n",
    "# +1 to start the numbering from 1 instead of 0 \n",
    "\n",
    "# Get the average medals earned in each third\n",
    "avg_medals_per_third = medals_per_athlete.groupby('Third')['Medals'].mean().reset_index()\n",
    "avg_medals_per_third.columns = ['Third', 'Avg_Medals']\n",
    "\n",
    "# Ensure the third with the highest average medals is labeled as 1\n",
    "avg_medals_per_third = avg_medals_per_third.sort_values(by='Avg_Medals', ascending=False).reset_index(drop=True)\n",
    "\n",
    "\n",
    "print(avg_medals_per_third)\n",
    "\n",
    "# Step 1: Calculate the number of medals each athlete has won\n",
    "athlete_medals = (\n",
    "    summer_medals.groupby('Athlete')\n",
    "    .size()\n",
    "    .reset_index(name='Medals')\n",
    ")\n",
    "\n",
    "''' ChatGPT solution: '''\n",
    "# Filter athletes with more than 1 medal\n",
    "athlete_medals = athlete_medals[athlete_medals['Medals'] > 1]\n",
    "\n",
    "# Step 2: Sort athletes by medals in descending order and reset the index\n",
    "athlete_medals = athlete_medals.sort_values(by='Medals', ascending=False).reset_index(drop=True)\n",
    "\n",
    "# Step 3: Split the athletes into thirds based on the number of medals they've won \n",
    "# and calculate the average medals in each third\n",
    "athlete_medals['Third'] = pd.cut( # Split the athletes into thirds based on the number of medals they've won\n",
    "    athlete_medals.index, \n",
    "    bins=3, \n",
    "    labels=[1, 2, 3]\n",
    ")\n",
    "\n",
    "# Step 4: Calculate the average medals in each third\n",
    "result = (\n",
    "    athlete_medals.groupby('Third')['Medals']\n",
    "    .mean() # Calculate the average medals in each third\n",
    "    .reset_index(name='Avg_Medals') # Rename the column to Avg_Medals\n",
    "    .sort_values(by='Third')\n",
    ")\n",
    "\n",
    "print(result)\n"
   ]
  },
  {
   "cell_type": "markdown",
   "metadata": {},
   "source": [
    "## Chapter 3: Aggregate window functions and frames\n",
    "In this chapter, you'll learn how to use aggregate functions you're familiar with, like `AVG()` and `SUM()`, as window functions, as well as how to define frames to change a window function's output.\n"
   ]
  },
  {
   "cell_type": "markdown",
   "metadata": {},
   "source": [
    "### Video 3.01: Aggregate window functions\n",
    "[https://campus.datacamp.com/courses/postgresql-summary-stats-and-window-functions/aggregate-window-functions-and-frames?ex=1]"
   ]
  },
  {
   "cell_type": "markdown",
   "metadata": {},
   "source": [
    "### Exercise 3.02: Running totals of athlete medals\n",
    "The running total (or cumulative sum) of a column helps you determine what each row's contribution is to the total sum."
   ]
  },
  {
   "cell_type": "code",
   "execution_count": 552,
   "metadata": {},
   "outputs": [
    {
     "name": "stdout",
     "output_type": "stream",
     "text": [
      "               Athlete  Medals  Max_Medals\n",
      "0  ABDUR-RAHIM Shareef       1           1\n",
      "1      ABERNATHY Brent       1           2\n",
      "2        ADRIAN Nathan       3           5\n",
      "3         AHRENS Chris       1           6\n",
      "4       AINSWORTH Kurt       1           7\n",
      "5            ALLEN Ray       1           8\n",
      "6          ALLEN Wyatt       1           9\n",
      "7     AMBROSI Christie       1          10\n",
      "8           AMICO Leah       1          11\n",
      "               Athlete  Medals  Max_Medals\n",
      "0  ABDUR-RAHIM Shareef       1           1\n",
      "1      ABERNATHY Brent       1           2\n",
      "2        ADRIAN Nathan       3           5\n",
      "3         AHRENS Chris       1           6\n",
      "4       AINSWORTH Kurt       1           7\n",
      "5            ALLEN Ray       1           8\n",
      "6          ALLEN Wyatt       1           9\n",
      "7     AMBROSI Christie       1          10\n",
      "8           AMICO Leah       1          11\n"
     ]
    }
   ],
   "source": [
    "# Return the athletes, the number of medals they earned, and the medals running total, \n",
    "# ordered by the athletes' names in alphabetical order.\n",
    "query = '''\n",
    "WITH Athlete_Medals AS (\n",
    "  SELECT\n",
    "    Athlete, COUNT(*) AS Medals\n",
    "  FROM Summer_Medals\n",
    "  WHERE\n",
    "    Country = 'USA' AND Medal = 'Gold'\n",
    "    AND Year >= 2000\n",
    "  GROUP BY Athlete)\n",
    "\n",
    "SELECT\n",
    "  -- Calculate the running total of athlete medals\n",
    "  Athlete,\n",
    "  Medals,\n",
    "  SUM(Medals) OVER (ORDER BY Athlete ASC) AS Max_Medals\n",
    "FROM Athlete_Medals\n",
    "ORDER BY Athlete ASC;\n",
    "'''\n",
    "# Execute the SQL query on the DataFrame\n",
    "result = ps.sqldf(query, locals())\n",
    "print(result.head(9))\n",
    "\n",
    "''' The same result using Python and the pandas library: '''\n",
    "# Filter the DataFrame for the specified conditions\n",
    "athlete_medals = summer_medals.query(\"Country == 'USA' and Medal == 'Gold' and Year >= 2000\")\n",
    "\n",
    "# Count the number of medals each athlete has earned\n",
    "medals_per_athlete = athlete_medals['Athlete'].value_counts().reset_index()\n",
    "medals_per_athlete.columns = ['Athlete', 'Medals']\n",
    "\n",
    "# Calculate the running total of athlete medals in alphabetical order of athletes' names \n",
    "medals_per_athlete = medals_per_athlete.sort_values(by='Athlete').reset_index(drop=True)\n",
    "# cumsum() calculates the cumulative sum of the Medals column\n",
    "medals_per_athlete['Max_Medals'] = medals_per_athlete['Medals'].cumsum()  \n",
    "\n",
    "# Display the result\n",
    "print(medals_per_athlete.head(9))\n",
    "\n",
    "\n",
    "\n",
    "\n"
   ]
  },
  {
   "cell_type": "markdown",
   "metadata": {},
   "source": [
    "### Exercise 3.03: Maximum country medals by year\n",
    "Getting the maximum of a country's earned medals so far helps you determine whether a country has broken its medals record by comparing the current year's earned medals and the maximum so far."
   ]
  },
  {
   "cell_type": "code",
   "execution_count": 553,
   "metadata": {},
   "outputs": [
    {
     "name": "stdout",
     "output_type": "stream",
     "text": [
      "   Country  Year  Medals  Max_Medals\n",
      "0      CHN  2000      39          39\n",
      "1      CHN  2004      52          52\n",
      "2      CHN  2008      74          74\n",
      "3      CHN  2012      56          74\n",
      "4      JPN  2000       5           5\n",
      "5      JPN  2004      21          21\n",
      "6      JPN  2008      23          23\n",
      "7      JPN  2012       7          23\n",
      "8      KOR  2000      12          12\n",
      "9      KOR  2004      14          14\n",
      "10     KOR  2008      41          41\n",
      "11     KOR  2012      18          41\n",
      "    Year Country  Medals  Max_Medals\n",
      "0   2000     CHN      39          39\n",
      "1   2004     CHN      52          52\n",
      "2   2008     CHN      74          74\n",
      "3   2012     CHN      56          74\n",
      "4   2000     JPN       5           5\n",
      "5   2004     JPN      21          21\n",
      "6   2008     JPN      23          23\n",
      "7   2012     JPN       7          23\n",
      "8   2000     KOR      12          12\n",
      "9   2004     KOR      14          14\n",
      "10  2008     KOR      41          41\n",
      "11  2012     KOR      18          41\n"
     ]
    }
   ],
   "source": [
    "# Return the year, country, medals, and the maximum medals earned so far for each country,\n",
    "# ordered by year in ascending order.\n",
    "query = '''\n",
    "WITH Country_Medals AS (\n",
    "  SELECT\n",
    "    Year, Country, COUNT(*) AS Medals\n",
    "  FROM Summer_Medals\n",
    "  WHERE\n",
    "    Country IN ('CHN', 'KOR', 'JPN')\n",
    "    AND Medal = 'Gold' AND Year >= 2000\n",
    "  GROUP BY Year, Country)\n",
    "\n",
    "SELECT\n",
    "  -- Return the max medals earned so far per country\n",
    "  Country,\n",
    "  Year,\n",
    "  Medals,\n",
    "  MAX(Medals) OVER (PARTITION BY Country\n",
    "                        ORDER BY Year ASC) AS Max_Medals\n",
    "FROM Country_Medals\n",
    "ORDER BY Country ASC, Year ASC;\n",
    "'''\n",
    "# Execute the SQL query on the DataFrame\n",
    "result = ps.sqldf(query, locals())\n",
    "print(result)\n",
    "\n",
    "''' The same result using Python and the pandas library: '''\n",
    "# Filter the DataFrame for the specified conditions\n",
    "filtered_df = Summer_Medals[(Summer_Medals['Country']\n",
    "                            .isin(['CHN', 'KOR', 'JPN'])) & \n",
    "                            (Summer_Medals['Medal'] == 'Gold') & \n",
    "                            (Summer_Medals['Year'] >= 2000)]\n",
    "# The same but using the query method of the DataFrame class to filter the DataFrame\n",
    "# Summer_Medals.query(\"Country in ['CHN', 'KOR', 'JPN'] and Medal == 'Gold' and Year >= 2000\")\n",
    "\n",
    "# Count the number of medals each country has earned per year\n",
    "# size() counts the number of medals each country has earned per year \n",
    "country_medals = filtered_df.groupby(['Year', 'Country']).size().reset_index(name='Medals') \n",
    "\n",
    "# Calculate the running maximum of medals earned so far per country\n",
    "country_medals['Max_Medals'] = country_medals.groupby('Country')['Medals'].cummax()\n",
    "\n",
    "# Sort by Country and Year in ascending order\n",
    "country_medals = country_medals.sort_values(by=['Country', 'Year']).reset_index(drop=True)\n",
    "\n",
    "# Display the result\n",
    "print(country_medals)\n"
   ]
  },
  {
   "cell_type": "markdown",
   "metadata": {},
   "source": [
    "### Exercise 3.04: Minimum country medals by year\n",
    "So far, you've seen MAX and SUM, aggregate functions normally used with GROUP BY, being used as window functions. You can also use the other aggregate functions, like MIN, as window functions."
   ]
  },
  {
   "cell_type": "code",
   "execution_count": 554,
   "metadata": {},
   "outputs": [
    {
     "name": "stdout",
     "output_type": "stream",
     "text": [
      "   Year  Medals  Min_Medals\n",
      "0  2000      22          22\n",
      "1  2004      21          21\n",
      "2  2008      25          21\n",
      "3  2012      30          21\n",
      "   Year  Medals  Min_Medals\n",
      "0  2000      22          22\n",
      "1  2004      21          21\n",
      "2  2008      25          21\n",
      "3  2012      30          21\n"
     ]
    }
   ],
   "source": [
    "# Return the year, medals earned, and minimum medals earned so far.\n",
    "\n",
    "query = '''\n",
    "WITH France_Medals AS (\n",
    "  SELECT\n",
    "    Year, COUNT(*) AS Medals\n",
    "  FROM Summer_Medals\n",
    "  WHERE\n",
    "    Country = 'FRA'\n",
    "    AND Medal = 'Gold' AND Year >= 2000\n",
    "  GROUP BY Year)\n",
    "\n",
    "SELECT\n",
    "  Year,\n",
    "  Medals,\n",
    "  MIN(Medals) OVER (ORDER BY Year ASC) AS Min_Medals\n",
    "FROM France_Medals\n",
    "ORDER BY Year ASC;\n",
    "'''\n",
    "# Execute the SQL query on the DataFrame\n",
    "result = ps.sqldf(query, locals())\n",
    "print(result)\n",
    "\n",
    "''' The same result using Python and the pandas library: '''\n",
    "# Filter the DataFrame for the specified conditions\n",
    "france_medals = Summer_Medals.query(\"Country == 'FRA' and Medal == 'Gold' and Year >= 2000\")\n",
    "\n",
    "# Count the number of medals each year\n",
    "medals_per_year = france_medals.groupby('Year').size().reset_index(name='Medals')\n",
    "\n",
    "# Calculate the running minimum of medals earned so far\n",
    "medals_per_year['Min_Medals'] = medals_per_year['Medals'].cummin()\n",
    "\n",
    "# Sort by Year in ascending order\n",
    "medals_per_year = medals_per_year.sort_values(by='Year').reset_index(drop=True)\n",
    "\n",
    "# Display the result\n",
    "print(medals_per_year)\n"
   ]
  },
  {
   "cell_type": "markdown",
   "metadata": {},
   "source": [
    "### Video 3.05: Frames\n",
    "[https://campus.datacamp.com/courses/postgresql-summary-stats-and-window-functions/aggregate-window-functions-and-frames?ex=5]"
   ]
  },
  {
   "cell_type": "markdown",
   "metadata": {},
   "source": [
    "### Exercise 3.07: Moving maximum of Scandinavian athletes' medals\n",
    "Frames allow you to restrict the rows passed as input to your window function to a sliding window for you to define the start and finish.\n",
    "\n",
    "Adding a frame to your window function allows you to calculate \"moving\" metrics, inputs of which slide from row to row. "
   ]
  },
  {
   "cell_type": "code",
   "execution_count": 555,
   "metadata": {},
   "outputs": [
    {
     "name": "stdout",
     "output_type": "stream",
     "text": [
      "   Year  Medals  Max_Medals\n",
      "0  1896       1           1\n",
      "1  1900       1          77\n",
      "2  1908      77         141\n",
      "3  1912     141         159\n",
      "4  1920     159         159\n",
      "5  1924      48          48\n",
      "6  1928      24          24\n",
      "7  1932      17          17\n",
      "8  1936      15          54\n",
      "9  1948      54          54\n",
      "   Year  Medals  Max_Medals\n",
      "0  1896       1           1\n",
      "1  1900       1          77\n",
      "2  1908      77         141\n",
      "3  1912     141         159\n",
      "4  1920     159         159\n",
      "5  1924      48          48\n",
      "6  1928      24          24\n",
      "7  1932      17          17\n",
      "8  1936      15          54\n",
      "9  1948      54          54\n"
     ]
    }
   ],
   "source": [
    "# Return the year, medals earned, and the maximum medals earned, \n",
    "# comparing only the current year and the next year.\n",
    "query = '''\n",
    "WITH Scandinavian_Medals AS (\n",
    "  SELECT\n",
    "    Year, COUNT(*) AS Medals\n",
    "  FROM Summer_Medals\n",
    "  WHERE\n",
    "    Country IN ('DEN', 'NOR', 'FIN', 'SWE', 'ISL')\n",
    "    AND Medal = 'Gold'\n",
    "  GROUP BY Year)\n",
    "\n",
    "SELECT\n",
    "  -- Select each year's medals\n",
    "  Year,\n",
    "  Medals,\n",
    "  -- Get the max of the current and next years'  medals\n",
    "  MAX(Medals) OVER (ORDER BY Year ASC\n",
    "                    ROWS BETWEEN CURRENT ROW\n",
    "                    AND 1 FOLLOWING) AS Max_Medals\n",
    "FROM Scandinavian_Medals\n",
    "ORDER BY Year ASC;\n",
    "'''\n",
    "# Execute the SQL query on the DataFrame\n",
    "result = ps.sqldf(query, locals())\n",
    "print(result.head(10))\n",
    "\n",
    "''' The same result using Python and the pandas library: '''\n",
    "# Filter the DataFrame for the specified conditions\n",
    "scandinavian_medals = Summer_Medals.query(\"Country in ['DEN', 'NOR', 'FIN', 'SWE', 'ISL'] and Medal == 'Gold'\")\n",
    "\n",
    "# Count the number of medals each year\n",
    "medals_per_year = scandinavian_medals.groupby('Year').size().reset_index(name='Medals')\n",
    "\n",
    "# Calculate the maximum medals comparing the current year and the next year \n",
    "medals_per_year['Max_Medals'] = medals_per_year['Medals'].rolling(window=2, min_periods=1).max().shift(-1).fillna(medals_per_year['Medals']).astype(int)\n",
    "# .rolling(window=2, min_periods=1) calculates the maximum of the current and next years' medals \n",
    "# .shift(-1) shifts the result by 1 row to compare the current year with the next year\n",
    "\n",
    "# Display the result\n",
    "print(medals_per_year.head(10))\n",
    "\n",
    "\n",
    "\n",
    "\n"
   ]
  },
  {
   "cell_type": "markdown",
   "metadata": {},
   "source": [
    "### Exercise 3.08: Moving maximum of Chinese athletes' medals\n",
    "Frames allow you to \"peek\" forwards or backward without first using the relative fetching functions, `LAG` and `LEAD`, to fetch previous rows' values into the current row."
   ]
  },
  {
   "cell_type": "code",
   "execution_count": 556,
   "metadata": {},
   "outputs": [
    {
     "name": "stdout",
     "output_type": "stream",
     "text": [
      "        Athlete  Medals  Max_Medals\n",
      "0     CAI Yalin       1           1\n",
      "1       CAI Yun       1           1\n",
      "2       CAO Lei       1           1\n",
      "3      CAO Yuan       1           1\n",
      "4     CHEN Ding       1           1\n",
      "5     CHEN Jing       1           1\n",
      "6       CHEN Qi       1           1\n",
      "7   CHEN Ruolin       4           4\n",
      "8  CHEN Xiaomin       1           4\n",
      "9   CHEN Xiexia       1           4\n",
      "        Athlete  Medals  Max_Medals\n",
      "0     CAI Yalin       1           1\n",
      "1       CAI Yun       1           1\n",
      "2       CAO Lei       1           1\n",
      "3      CAO Yuan       1           1\n",
      "4     CHEN Ding       1           1\n",
      "5     CHEN Jing       1           1\n",
      "6       CHEN Qi       1           1\n",
      "7   CHEN Ruolin       4           4\n",
      "8  CHEN Xiaomin       1           4\n",
      "9   CHEN Xiexia       1           4\n"
     ]
    }
   ],
   "source": [
    "# Return the athletes, medals earned, and the maximum medals earned, \n",
    "# comparing only the last two and current athletes, \n",
    "# ordering by athletes' names in alphabetical order.\n",
    "query = '''\n",
    "WITH Chinese_Medals AS (\n",
    "  SELECT\n",
    "    Athlete, COUNT(*) AS Medals\n",
    "  FROM Summer_Medals\n",
    "  WHERE\n",
    "    Country = 'CHN' AND Medal = 'Gold'\n",
    "    AND Year >= 2000\n",
    "  GROUP BY Athlete)\n",
    "\n",
    "SELECT\n",
    "  -- Select the athletes and the medals they've earned\n",
    "  Athlete,\n",
    "  Medals,\n",
    "  -- Get the max of the last two and current rows' medals \n",
    "  MAX(Medals) OVER (ORDER BY Athlete ASC\n",
    "                    ROWS BETWEEN 2 PRECEDING\n",
    "                    AND CURRENT ROW) AS Max_Medals\n",
    "FROM Chinese_Medals\n",
    "ORDER BY Athlete ASC;\n",
    "'''\n",
    "# Execute the SQL query on the DataFrame\n",
    "result = ps.sqldf(query, locals())\n",
    "print(result.head(10))\n",
    "\n",
    "''' The same result using Python and the pandas library: '''\n",
    "# Filter the DataFrame for the specified conditions\n",
    "chinese_medals = Summer_Medals.query(\"Country == 'CHN' and Medal == 'Gold' and Year >= 2000\")\n",
    "\n",
    "# Count the number of medals each athlete has earned\n",
    "medals_per_athlete = chinese_medals['Athlete'].value_counts().reset_index()\n",
    "medals_per_athlete.columns = ['Athlete', 'Medals']\n",
    "\n",
    "# Calculate the maximum medals comparing the last two and current athletes\n",
    "medals_per_athlete = medals_per_athlete.sort_values(by='Athlete').reset_index(drop=True)\n",
    "medals_per_athlete['Max_Medals'] = medals_per_athlete['Medals'].rolling(window=3, min_periods=1).max().astype(int)\n",
    "# .rolling(window=3, min_periods=1).max() calculates the maximum of the last two and current athletes' medals\n",
    "\n",
    "# Display the result\n",
    "print(medals_per_athlete.head(10))\n",
    "\n"
   ]
  },
  {
   "cell_type": "markdown",
   "metadata": {},
   "source": [
    "### Video 3.09: Moving averages and totals\n",
    "[https://campus.datacamp.com/courses/postgresql-summary-stats-and-window-functions/aggregate-window-functions-and-frames?ex=9]"
   ]
  },
  {
   "cell_type": "markdown",
   "metadata": {},
   "source": [
    "### Exercise 3.11: Moving average of Russian medals\n",
    "Using frames with aggregate window functions allow you to calculate many common metrics, including moving averages and totals. These metrics track the change in performance over time."
   ]
  },
  {
   "cell_type": "code",
   "execution_count": 557,
   "metadata": {},
   "outputs": [
    {
     "name": "stdout",
     "output_type": "stream",
     "text": [
      "   Year  Medals  Medals_MA\n",
      "0  1996      36         36\n",
      "1  2000      66         51\n",
      "2  2004      47         49\n",
      "3  2008      43         52\n",
      "4  2012      47         45\n",
      "   Year  Medals  Medals_MA\n",
      "0  1996      36         36\n",
      "1  2000      66         51\n",
      "2  2004      47         49\n",
      "3  2008      43         52\n",
      "4  2012      47         45\n"
     ]
    }
   ],
   "source": [
    "# Calculate the 3-year moving average of medals earned.\n",
    "query = '''\n",
    "WITH Russian_Medals AS (\n",
    "    SELECT\n",
    "        Year, COUNT(*) AS Medals\n",
    "    FROM Summer_Medals\n",
    "    WHERE\n",
    "        Country = 'RUS'\n",
    "        AND Medal = 'Gold'\n",
    "        AND Year >= 1980\n",
    "    GROUP BY Year)\n",
    "\n",
    "SELECT\n",
    "    Year, Medals,\n",
    "    CAST(AVG(Medals) OVER -- with ROUND() function is working as well of course\n",
    "        (ORDER BY Year ASC\n",
    "         ROWS BETWEEN\n",
    "         2 PRECEDING AND CURRENT ROW) AS INTEGER) AS Medals_MA\n",
    "FROM Russian_Medals\n",
    "ORDER BY Year ASC;\n",
    "'''\n",
    "# Execute the SQL query on the DataFrame\n",
    "result = ps.sqldf(query, locals())\n",
    "print(result)\n",
    "\n",
    "''' The same result using Python and the pandas library: '''\n",
    "# Filter the DataFrame for the specified conditions\n",
    "russian_medals = Summer_Medals.query(\"Country == 'RUS' and Medal == 'Gold' and Year >= 1980\")\n",
    "\n",
    "# Count the number of medals each year\n",
    "medals_per_year = (\n",
    "        russian_medals\n",
    "        .groupby('Year')\n",
    "        .size() # counts the number of medals each year\n",
    "        .reset_index(name='Medals')\n",
    ")\n",
    "# Calculate the 3-year moving average of medals earned\n",
    "medals_per_year['Medals_MA'] = ( \n",
    "        medals_per_year['Medals']\n",
    "        .rolling(window=3, min_periods=1)\n",
    "        .mean()\n",
    "        .astype(int)\n",
    ")\n",
    "# Display the result\n",
    "print(medals_per_year)"
   ]
  },
  {
   "cell_type": "markdown",
   "metadata": {},
   "source": [
    "### Exercise 3.12: Moving total of countries' medals\n",
    "What if your data is split into multiple groups spread over one or more columns in the table? Even with a defined frame, if you can't somehow separate the groups' data, one group's values will affect the average of another group's values."
   ]
  },
  {
   "cell_type": "code",
   "execution_count": 558,
   "metadata": {},
   "outputs": [
    {
     "name": "stdout",
     "output_type": "stream",
     "text": [
      "   Year Country  Medals  Medals_MA\n",
      "0  2012    None       4          4\n",
      "1  2008     AFG       1          1\n",
      "2  2012     AFG       1          2\n",
      "3  1988     AHO       1          1\n",
      "4  1984     ALG       2          2\n",
      "5  1992     ALG       2          4\n",
      "6  1996     ALG       3          7\n",
      "7  2000     ALG       5         10\n",
      "8  2008     ALG       2         10\n",
      "9  2012     ALG       1          8\n",
      "   Year Country  Medals  Medals_MA\n",
      "0  2008     AFG       1          1\n",
      "1  2012     AFG       1          2\n",
      "2  1988     AHO       1          1\n",
      "3  1984     ALG       2          2\n",
      "4  1992     ALG       2          4\n",
      "5  1996     ALG       3          7\n",
      "6  2000     ALG       5         10\n",
      "7  2008     ALG       2         10\n",
      "8  2012     ALG       1          8\n",
      "9  1908     ANZ      19         19\n"
     ]
    }
   ],
   "source": [
    "# Calculate the 3-year moving sum of medals earned per country.\n",
    "query = '''\n",
    "WITH Country_Medals AS (\n",
    "  SELECT\n",
    "    Year, Country, COUNT(*) AS Medals\n",
    "  FROM Summer_Medals\n",
    "  GROUP BY Year, Country)\n",
    "\n",
    "SELECT\n",
    "  Year, Country, Medals,\n",
    "  -- Calculate each country's 3-game moving total\n",
    "  SUM(Medals) OVER\n",
    "    (PARTITION BY Country\n",
    "     ORDER BY Year ASC\n",
    "     ROWS BETWEEN\n",
    "     2 PRECEDING AND CURRENT ROW) AS Medals_MA\n",
    "FROM Country_Medals\n",
    "ORDER BY Country ASC, Year ASC;\n",
    "'''\n",
    "# Execute the SQL query on the DataFrame\n",
    "result = ps.sqldf(query, locals())\n",
    "print(result.head(10))\n",
    "\n",
    "''' The same result using Python and the pandas library: '''\n",
    "# Step 1: Group by 'Year' and 'Country' to count medals\n",
    "country_medals = (\n",
    "    summer_medals.groupby(['Year', 'Country'])\n",
    "    .size()\n",
    "    .reset_index(name='Medals')\n",
    ")\n",
    "\n",
    "# Step 2: Calculate the 3-game moving sum for each country using `rolling()`\n",
    "country_medals['Medals_MA'] = (\n",
    "    country_medals\n",
    "    .sort_values(['Country', 'Year'])\n",
    "    .groupby('Country')['Medals']\n",
    "    .rolling(window=3, min_periods=1).sum() # Calculate the 3-game moving sum for each country \n",
    "    .reset_index(level=0, drop=True)\n",
    "    .astype(int)\n",
    ")\n",
    "\n",
    "# Step 3: Sort by 'Country' and 'Year' for final output\n",
    "country_medals = country_medals.sort_values(['Country', 'Year']).reset_index(drop=True)\n",
    "\n",
    "# Display the result\n",
    "print(country_medals.head(10))\n"
   ]
  },
  {
   "cell_type": "markdown",
   "metadata": {},
   "source": [
    "## Chapter 4: Beyond window functions\n",
    "In this last chapter, you'll learn some techniques and functions that are useful when used together with window functions."
   ]
  },
  {
   "cell_type": "markdown",
   "metadata": {},
   "source": [
    "### Video 4.01: Pivoting\n",
    "[https://campus.datacamp.com/courses/postgresql-summary-stats-and-window-functions/beyond-window-functions?ex=1]"
   ]
  },
  {
   "cell_type": "markdown",
   "metadata": {},
   "source": [
    "### Exercise 4.02: A basic pivot\n",
    "You have the following table of Pole Vault gold medalist countries by gender in 2008 and 2012.\n",
    "| Gender | Year | Country |\n",
    "|--------|------|---------|\n",
    "| Men    | 2008 | AUS     |\n",
    "| Men    | 2012 | FRA     |\n",
    "| Women  | 2008 | RUS     |\n",
    "| Women  | 2012 | USA     |\n",
    "\n",
    "Pivot it by Year to get the following reshaped, cleaner table.\n",
    "| Gender | 2008 | 2012 |\n",
    "|--------|------|------|\n",
    "| Men    | AUS  | FRA  |\n",
    "| Women  | RUS  | USA  |"
   ]
  },
  {
   "cell_type": "code",
   "execution_count": 559,
   "metadata": {},
   "outputs": [
    {
     "name": "stdout",
     "output_type": "stream",
     "text": [
      "  Gender 2008 2012\n",
      "0    Men  AUS  FRA\n",
      "1  Women  RUS  USA\n"
     ]
    }
   ],
   "source": [
    "# Create the correct extension.\n",
    "# Fill in the column names of the pivoted table.\n",
    "# query = \n",
    "'''\n",
    "-- Create the correct extension to enable CROSSTAB\n",
    "CREATE EXTENSION IF NOT EXISTS tablefunc;\n",
    "\n",
    "SELECT * FROM CROSSTAB($$\n",
    "  SELECT\n",
    "    Gender, Year, Country\n",
    "  FROM Summer_Medals\n",
    "  WHERE\n",
    "    Year IN (2008, 2012)\n",
    "    AND Medal = 'Gold'\n",
    "    AND Event = 'Pole Vault'\n",
    "  ORDER By Gender ASC, Year ASC\n",
    "-- Fill in the correct column names for the pivoted table\n",
    "$$) AS ct (Gender VARCHAR,\n",
    "           \"2008\" VARCHAR,\n",
    "           \"2012\" VARCHAR)\n",
    "ORDER BY Gender ASC;\n",
    "'''\n",
    "''' \n",
    "# Execute the SQL query on the DataFrame\n",
    "result = ps.sqldf(query, locals())\n",
    "print(result)\n",
    "'''\n",
    "# Result is not displayed because the CROSSTAB function is not \n",
    "# supported by the SQLite database engine???\n",
    "\n",
    "\n",
    "''' The same result using Python and the pandas library: '''\n",
    "# Filter the DataFrame for the specified conditions\n",
    "filtered_df = summer_medals[(summer_medals['Year'].isin([2008, 2012])) &\n",
    "                            (summer_medals['Medal'] == 'Gold') &\n",
    "                            (summer_medals['Event'] == 'Pole Vault')]\n",
    "\n",
    "# Pivot the DataFrame\n",
    "pivot_df = filtered_df.pivot(index='Gender', columns='Year', values='Country').reset_index()\n",
    "\n",
    "# Rename the columns\n",
    "pivot_df.columns.name = None # Remove the name of the columns\n",
    "pivot_df.columns = ['Gender', '2008', '2012'] # Rename the columns\n",
    "\n",
    "# Display the result\n",
    "print(pivot_df)\n"
   ]
  },
  {
   "cell_type": "markdown",
   "metadata": {},
   "source": [
    "### Exercise 4.03: Pivoting with ranking\n",
    "You want to produce an easy scannable table of the rankings of the three most populous EU countries by how many gold medals they've earned in the 2004 through 2012 Olympic games. The table needs to be in this format:\n",
    "\n",
    "| Country | 2004 | 2008 | 2012 |\n",
    "|---------|------|------|------|\n",
    "| FRA     | ...  | ...  | ...  |\n",
    "| GBR     | ...  | ...  | ...  |\n",
    "| GER     | ...  | ...  | ...  |\n",
    "\n",
    "You'll need to count the gold medals each country has earned, produce the ranks of each country by medals earned, then pivot the table to this shape."
   ]
  },
  {
   "cell_type": "code",
   "execution_count": 560,
   "metadata": {},
   "outputs": [
    {
     "name": "stdout",
     "output_type": "stream",
     "text": [
      "the number of medals each country has earned per year  Country  Year  Awards\n",
      "0     FRA  2004      21\n",
      "1     FRA  2008      25\n",
      "2     FRA  2012      30\n",
      "3     GBR  2004      17\n",
      "4     GBR  2008      31\n",
      "5     GBR  2012      48\n",
      "6     GER  2004      41\n",
      "7     GER  2008      42\n",
      "8     GER  2012      45\n",
      "  Country  2004  2008  2012\n",
      "0     FRA     2     3     3\n",
      "1     GBR     3     2     1\n",
      "2     GER     1     1     2\n"
     ]
    }
   ],
   "source": [
    "# Create the correct extension.\n",
    "# Fill in the column names of the pivoted table.\n",
    "# query = \n",
    "'''\n",
    "CREATE EXTENSION IF NOT EXISTS tablefunc;\n",
    "\n",
    "SELECT * FROM CROSSTAB($$\n",
    "  WITH Country_Awards AS (\n",
    "    SELECT\n",
    "      Country,\n",
    "      Year,\n",
    "      COUNT(*) AS Awards\n",
    "    FROM Summer_Medals\n",
    "    WHERE\n",
    "      Country IN ('FRA', 'GBR', 'GER')\n",
    "      AND Year IN (2004, 2008, 2012)\n",
    "      AND Medal = 'Gold'\n",
    "    GROUP BY Country, Year)\n",
    "\n",
    "  SELECT\n",
    "    Country,\n",
    "    Year,\n",
    "    RANK() OVER\n",
    "      (PARTITION BY Year\n",
    "       ORDER BY Awards DESC) :: INTEGER AS rank\n",
    "  FROM Country_Awards\n",
    "  ORDER BY Country ASC, Year ASC;\n",
    "-- Fill in the correct column names for the pivoted table\n",
    "$$) AS ct (Country VARCHAR,\n",
    "           \"2004\" INTEGER,\n",
    "           \"2008\" INTEGER,\n",
    "           \"2012\" INTEGER)\n",
    "\n",
    "Order by Country ASC;\n",
    "'''\n",
    "\n",
    "# Result is not displayed because the CROSSTAB function is not \n",
    "# supported by the SQLite database engine???\n",
    "\n",
    "''' The same result using Python and the pandas library: '''\n",
    "# Filter the DataFrame for the specified conditions\n",
    "filtered_df = summer_medals[(summer_medals['Country'].isin(['FRA', 'GBR', 'GER'])) &\n",
    "              (summer_medals['Year'].isin([2004, 2008, 2012])) &\n",
    "              (summer_medals['Medal'] == 'Gold')]\n",
    "\n",
    "# Count the number of medals each country has earned per year\n",
    "# .size() counts the number of medals each country has earned per year\n",
    "country_awards = filtered_df.groupby(['Country', 'Year']).size().reset_index(name='Awards')\n",
    "print(f'the number of medals each country has earned per year{country_awards}')\n",
    "\n",
    "# Rank each country by the number of medals they've earned per year\n",
    "country_awards['rank'] = country_awards.groupby('Year')['Awards'].rank(method='min', ascending=False).astype(int)\n",
    "\n",
    "# Pivot the DataFrame to get the desired format\n",
    "pivot_df = country_awards.pivot(index='Country', columns='Year', values='rank').reset_index()\n",
    "\n",
    "# Rename the columns\n",
    "pivot_df.columns.name = None\n",
    "pivot_df.columns = ['Country', '2004', '2008', '2012']\n",
    "\n",
    "# Display the result\n",
    "print(pivot_df)\n",
    "\n"
   ]
  },
  {
   "cell_type": "markdown",
   "metadata": {},
   "source": [
    "### Video 4.04: ROLLUP and CUBE\n",
    "[https://campus.datacamp.com/courses/postgresql-summary-stats-and-window-functions/beyond-window-functions?ex=4]"
   ]
  },
  {
   "cell_type": "markdown",
   "metadata": {},
   "source": [
    "### Exercise 4.05: Country-level subtotals\n",
    "You want to look at three Scandinavian countries' earned gold medals per country and gender in the year 2004. You're also interested in Country-level subtotals to get the total medals earned for each country, but Gender-level subtotals don't make much sense in this case, so disregard them."
   ]
  },
  {
   "cell_type": "code",
   "execution_count": 561,
   "metadata": {},
   "outputs": [
    {
     "name": "stdout",
     "output_type": "stream",
     "text": [
      "  Country Gender  Gold_Awards\n",
      "0     DEN    Men            4\n",
      "1     DEN  Women           15\n",
      "0     DEN    NaN           19\n",
      "2     NOR    Men            3\n",
      "3     NOR  Women            2\n",
      "1     NOR    NaN            5\n",
      "4     SWE    Men            4\n",
      "5     SWE  Women            1\n",
      "2     SWE    NaN            5\n"
     ]
    }
   ],
   "source": [
    "# Count the gold medals awarded per country and gender.\n",
    "# Generate Country-level gold award counts.\n",
    "# query = '''\n",
    "'''\n",
    "-- Count the gold medals per country and gender\n",
    "SELECT\n",
    "  Country,\n",
    "  Gender,\n",
    "  COUNT(*) AS Gold_Awards\n",
    "FROM Summer_Medals\n",
    "WHERE\n",
    "  Year = 2004\n",
    "  AND Medal = 'Gold'\n",
    "  AND Country IN ('DEN', 'NOR', 'SWE')\n",
    "-- Generate Country-level subtotals\n",
    "GROUP BY Country, ROLLUP(Gender)\n",
    "ORDER BY Country ASC, Gender ASC;\n",
    "'''\n",
    "'''\n",
    "# Execute the SQL query on the DataFrame\n",
    "result = ps.sqldf(query, locals())\n",
    "print(result) '''\n",
    "# PandaSQLException: (sqlite3.OperationalError) no such function: ROLLUP\n",
    "\n",
    "''' The same result using Python and the pandas library: '''\n",
    "# Filter the DataFrame for the specified conditions\n",
    "filtered_df = summer_medals[(summer_medals['Year'] == 2004) & \n",
    "                            (summer_medals['Medal'] == 'Gold') & \n",
    "                            (summer_medals['Country'].isin(['DEN', 'NOR', 'SWE']))]\n",
    "\n",
    "# Count the gold medals per country and gender\n",
    "gold_awards = filtered_df.groupby(['Country', 'Gender']).size().reset_index(name='Gold_Awards')\n",
    "\n",
    "# Generate Country-level subtotals\n",
    "country_totals = gold_awards.groupby('Country')['Gold_Awards'].sum().reset_index(name='Gold_Awards')\n",
    "\n",
    "# Concatenate the detailed and subtotal DataFrames\n",
    "result_df = pd.concat([gold_awards, country_totals], ignore_index=False).sort_values(by=['Country', 'Gender'], ascending=[True, True])\n",
    "\n",
    "# Display the result\n",
    "print(result_df)\n"
   ]
  },
  {
   "cell_type": "markdown",
   "metadata": {},
   "source": [
    "### Exercise 4.06: All group-level subtotals\n",
    "You want to break down all medals awarded to Russia in the 2012 Olympic games per gender and medal type. Since the medals all belong to one country, Russia, it makes sense to generate all possible subtotals (Gender- and Medal-level subtotals), as well as a grand total.\n",
    "\n",
    "Generate a breakdown of the medals awarded to Russia per country and medal type, including all group-level subtotals and a grand total.\n"
   ]
  },
  {
   "cell_type": "code",
   "execution_count": null,
   "metadata": {},
   "outputs": [
    {
     "name": "stdout",
     "output_type": "stream",
     "text": [
      "   Gender   Medal  Awards\n",
      "11    All     All     130\n",
      "8     All  Bronze      51\n",
      "9     All    Gold      47\n",
      "10    All  Silver      32\n",
      "6     Men     All      64\n",
      "0     Men  Bronze      34\n",
      "1     Men    Gold      23\n",
      "2     Men  Silver       7\n",
      "7   Women     All      66\n",
      "3   Women  Bronze      17\n",
      "4   Women    Gold      24\n",
      "5   Women  Silver      25\n"
     ]
    }
   ],
   "source": [
    "# Count the medals awarded per gender and medal type.\n",
    "# Generate all possible group-level counts (per gender and medal type subtotals and the grand total).\n",
    "\n",
    "# query = \n",
    "'''\n",
    "-- Count the medals per gender and medal type\n",
    "SELECT\n",
    "  Gender,\n",
    "  Medal,\n",
    "  COUNT(*) AS Awards\n",
    "FROM Summer_Medals\n",
    "WHERE\n",
    "  Year = 2012\n",
    "  AND Country = 'RUS'\n",
    "-- Get all possible group-level subtotals\n",
    "GROUP BY CUBE(Gender, Medal)\n",
    "ORDER BY Gender ASC, Medal ASC;\n",
    "'''\n",
    "# Execute the SQL query on the DataFrame\n",
    "# result = ps.sqldf(query, locals())\n",
    "# print(result) # PandaSQLException: (sqlite3.OperationalError) no such function: CUBE\n",
    "\n",
    "''' The same result using Python and the pandas library: '''\n",
    "# Filter the DataFrame for the specified conditions\n",
    "filtered_df = summer_medals[(summer_medals['Year'] == 2012) & \n",
    "                            (summer_medals['Country'] == 'RUS')]\n",
    "\n",
    "# Count the medals per gender and medal type\n",
    "medal_counts = filtered_df.groupby(['Gender', 'Medal']).size().reset_index(name='Awards')\n",
    "\n",
    "# Generate all possible group-level subtotals\n",
    "gender_totals = medal_counts.groupby('Gender')['Awards'].sum().reset_index()\n",
    "gender_totals['Medal'] = 'All'\n",
    "\n",
    "medal_totals = medal_counts.groupby('Medal')['Awards'].sum().reset_index()\n",
    "medal_totals['Gender'] = 'All'\n",
    "\n",
    "grand_total = pd.DataFrame({'Gender': ['All'], 'Medal': ['All'], 'Awards': [medal_counts['Awards'].sum()]})\n",
    "\n",
    "# Concatenate the detailed and subtotal DataFrames\n",
    "result_df = pd.concat([medal_counts, gender_totals, medal_totals, grand_total], ignore_index=True).sort_values(by=['Gender', 'Medal'])\n",
    "\n",
    "# Display the result\n",
    "print(result_df)"
   ]
  }
 ],
 "metadata": {
  "kernelspec": {
   "display_name": ".venv",
   "language": "python",
   "name": "python3"
  },
  "language_info": {
   "codemirror_mode": {
    "name": "ipython",
    "version": 3
   },
   "file_extension": ".py",
   "mimetype": "text/x-python",
   "name": "python",
   "nbconvert_exporter": "python",
   "pygments_lexer": "ipython3",
   "version": "3.12.6"
  }
 },
 "nbformat": 4,
 "nbformat_minor": 2
}
